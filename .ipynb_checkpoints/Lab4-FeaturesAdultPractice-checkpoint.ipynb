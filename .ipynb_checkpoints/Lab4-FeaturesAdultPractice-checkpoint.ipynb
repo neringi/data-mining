{
 "cells": [
  {
   "cell_type": "markdown",
   "metadata": {},
   "source": [
    "## Preprocessing practice with Adult data\n",
    "\n",
    "Now it is time to try ourselves so let us use the Adult data again to do some FC/FS, etc.  Reload libraries and data as we did in the cleaning lab.  "
   ]
  },
  {
   "cell_type": "code",
   "execution_count": 1,
   "metadata": {},
   "outputs": [
    {
     "name": "stdout",
     "output_type": "stream",
     "text": [
      "Setup complete.\n"
     ]
    }
   ],
   "source": [
    "import pandas as pd\n",
    "import numpy as np\n",
    "pd.set_option('display.max_rows', 10)\n",
    "pd.plotting.register_matplotlib_converters()\n",
    "import matplotlib.pyplot as plt\n",
    "%matplotlib inline\n",
    "import seaborn as sns\n",
    "print(\"Setup complete.\")"
   ]
  },
  {
   "cell_type": "markdown",
   "metadata": {},
   "source": [
    "## Loading the data\n",
    "Now we begin by loading the data as we have done before and printing the `.head()` to inspect the data.  Load the data as the Adult_data data frame. We will use that through the lab. You have already explored this dataset in detail so you know already quite a bit about it, hopefully!\n"
   ]
  },
  {
   "cell_type": "code",
   "execution_count": 2,
   "metadata": {},
   "outputs": [
    {
     "name": "stdout",
     "output_type": "stream",
     "text": [
      "   age  workclass  fnlwgt     education  educational-num      marital-status  \\\n",
      "0   25    Private  226802          11th                7       Never-married   \n",
      "1   38    Private   89814       HS-grad                9  Married-civ-spouse   \n",
      "2   28  Local-gov  336951    Assoc-acdm               12  Married-civ-spouse   \n",
      "3   44    Private  160323  Some-college               10  Married-civ-spouse   \n",
      "4   18          ?  103497  Some-college               10       Never-married   \n",
      "\n",
      "          occupation relationship   race  gender  capital-gain  capital-loss  \\\n",
      "0  Machine-op-inspct    Own-child  Black    Male             0             0   \n",
      "1    Farming-fishing      Husband  White    Male             0             0   \n",
      "2    Protective-serv      Husband  White    Male             0             0   \n",
      "3  Machine-op-inspct      Husband  Black    Male          7688             0   \n",
      "4                  ?    Own-child  White  Female             0             0   \n",
      "\n",
      "   hours-per-week native-country income  \n",
      "0              40  United-States  <=50K  \n",
      "1              50  United-States  <=50K  \n",
      "2              40  United-States   >50K  \n",
      "3              40  United-States   >50K  \n",
      "4              30  United-States  <=50K  \n",
      "       age     workclass  fnlwgt   education  educational-num  \\\n",
      "48837   27       Private  257302  Assoc-acdm               12   \n",
      "48838   40       Private  154374     HS-grad                9   \n",
      "48839   58       Private  151910     HS-grad                9   \n",
      "48840   22       Private  201490     HS-grad                9   \n",
      "48841   52  Self-emp-inc  287927     HS-grad                9   \n",
      "\n",
      "           marital-status         occupation relationship   race  gender  \\\n",
      "48837  Married-civ-spouse       Tech-support         Wife  White  Female   \n",
      "48838  Married-civ-spouse  Machine-op-inspct      Husband  White    Male   \n",
      "48839             Widowed       Adm-clerical    Unmarried  White  Female   \n",
      "48840       Never-married       Adm-clerical    Own-child  White    Male   \n",
      "48841  Married-civ-spouse    Exec-managerial         Wife  White  Female   \n",
      "\n",
      "       capital-gain  capital-loss  hours-per-week native-country income  \n",
      "48837             0             0              38  United-States  <=50K  \n",
      "48838             0             0              40  United-States   >50K  \n",
      "48839             0             0              40  United-States  <=50K  \n",
      "48840             0             0              20  United-States  <=50K  \n",
      "48841         15024             0              40  United-States   >50K  \n"
     ]
    },
    {
     "data": {
      "text/plain": [
       "<Axes: xlabel='income', ylabel='count'>"
      ]
     },
     "execution_count": 2,
     "metadata": {},
     "output_type": "execute_result"
    },
    {
     "data": {
      "image/png": "[encoded data removed]",
      "text/plain": [
       "<Figure size 640x480 with 1 Axes>"
      ]
     },
     "metadata": {},
     "output_type": "display_data"
    }
   ],
   "source": [
    "#designate the path where you saved your Adult data\n",
    "Adult_data_path = \"/Users/ringi/Documents/code/data-mining/datasets/adult.csv\"\n",
    "\n",
    "#Load the data using pandas read_csv function. \n",
    "Adult_data = pd.read_csv(Adult_data_path)\n",
    "\n",
    "#Show the first and last few records to check data is loading correctly\n",
    "print(Adult_data.head())\n",
    "print(Adult_data.tail())\n",
    "\n",
    "#Show distribution of the class on whole dataset\n",
    "sns.countplot(x= 'income', data=Adult_data)\n"
   ]
  },
  {
   "cell_type": "markdown",
   "metadata": {},
   "source": [
    "## Data exploration"
   ]
  },
  {
   "cell_type": "markdown",
   "metadata": {},
   "source": [
    "Let us examine what type of attributes may be to understand which are non numeric and may need encoding."
   ]
  },
  {
   "cell_type": "code",
   "execution_count": 3,
   "metadata": {},
   "outputs": [
    {
     "data": {
      "text/html": [
       "<div>\n",
       "<style scoped>\n",
       "    .dataframe tbody tr th:only-of-type {\n",
       "        vertical-align: middle;\n",
       "    }\n",
       "\n",
       "    .dataframe tbody tr th {\n",
       "        vertical-align: top;\n",
       "    }\n",
       "\n",
       "    .dataframe thead th {\n",
       "        text-align: right;\n",
       "    }\n",
       "</style>\n",
       "<table border=\"1\" class=\"dataframe\">\n",
       "  <thead>\n",
       "    <tr style=\"text-align: right;\">\n",
       "      <th></th>\n",
       "      <th>age</th>\n",
       "      <th>fnlwgt</th>\n",
       "      <th>educational-num</th>\n",
       "      <th>capital-gain</th>\n",
       "      <th>capital-loss</th>\n",
       "      <th>hours-per-week</th>\n",
       "    </tr>\n",
       "  </thead>\n",
       "  <tbody>\n",
       "    <tr>\n",
       "      <th>count</th>\n",
       "      <td>48842.000000</td>\n",
       "      <td>4.884200e+04</td>\n",
       "      <td>48842.000000</td>\n",
       "      <td>48842.000000</td>\n",
       "      <td>48842.000000</td>\n",
       "      <td>48842.000000</td>\n",
       "    </tr>\n",
       "    <tr>\n",
       "      <th>mean</th>\n",
       "      <td>38.643585</td>\n",
       "      <td>1.896641e+05</td>\n",
       "      <td>10.078089</td>\n",
       "      <td>1079.067626</td>\n",
       "      <td>87.502314</td>\n",
       "      <td>40.422382</td>\n",
       "    </tr>\n",
       "    <tr>\n",
       "      <th>std</th>\n",
       "      <td>13.710510</td>\n",
       "      <td>1.056040e+05</td>\n",
       "      <td>2.570973</td>\n",
       "      <td>7452.019058</td>\n",
       "      <td>403.004552</td>\n",
       "      <td>12.391444</td>\n",
       "    </tr>\n",
       "    <tr>\n",
       "      <th>min</th>\n",
       "      <td>17.000000</td>\n",
       "      <td>1.228500e+04</td>\n",
       "      <td>1.000000</td>\n",
       "      <td>0.000000</td>\n",
       "      <td>0.000000</td>\n",
       "      <td>1.000000</td>\n",
       "    </tr>\n",
       "    <tr>\n",
       "      <th>25%</th>\n",
       "      <td>28.000000</td>\n",
       "      <td>1.175505e+05</td>\n",
       "      <td>9.000000</td>\n",
       "      <td>0.000000</td>\n",
       "      <td>0.000000</td>\n",
       "      <td>40.000000</td>\n",
       "    </tr>\n",
       "    <tr>\n",
       "      <th>50%</th>\n",
       "      <td>37.000000</td>\n",
       "      <td>1.781445e+05</td>\n",
       "      <td>10.000000</td>\n",
       "      <td>0.000000</td>\n",
       "      <td>0.000000</td>\n",
       "      <td>40.000000</td>\n",
       "    </tr>\n",
       "    <tr>\n",
       "      <th>75%</th>\n",
       "      <td>48.000000</td>\n",
       "      <td>2.376420e+05</td>\n",
       "      <td>12.000000</td>\n",
       "      <td>0.000000</td>\n",
       "      <td>0.000000</td>\n",
       "      <td>45.000000</td>\n",
       "    </tr>\n",
       "    <tr>\n",
       "      <th>max</th>\n",
       "      <td>90.000000</td>\n",
       "      <td>1.490400e+06</td>\n",
       "      <td>16.000000</td>\n",
       "      <td>99999.000000</td>\n",
       "      <td>4356.000000</td>\n",
       "      <td>99.000000</td>\n",
       "    </tr>\n",
       "  </tbody>\n",
       "</table>\n",
       "</div>"
      ],
      "text/plain": [
       "                age        fnlwgt  educational-num  capital-gain  \\\n",
       "count  48842.000000  4.884200e+04     48842.000000  48842.000000   \n",
       "mean      38.643585  1.896641e+05        10.078089   1079.067626   \n",
       "std       13.710510  1.056040e+05         2.570973   7452.019058   \n",
       "min       17.000000  1.228500e+04         1.000000      0.000000   \n",
       "25%       28.000000  1.175505e+05         9.000000      0.000000   \n",
       "50%       37.000000  1.781445e+05        10.000000      0.000000   \n",
       "75%       48.000000  2.376420e+05        12.000000      0.000000   \n",
       "max       90.000000  1.490400e+06        16.000000  99999.000000   \n",
       "\n",
       "       capital-loss  hours-per-week  \n",
       "count  48842.000000    48842.000000  \n",
       "mean      87.502314       40.422382  \n",
       "std      403.004552       12.391444  \n",
       "min        0.000000        1.000000  \n",
       "25%        0.000000       40.000000  \n",
       "50%        0.000000       40.000000  \n",
       "75%        0.000000       45.000000  \n",
       "max     4356.000000       99.000000  "
      ]
     },
     "execution_count": 3,
     "metadata": {},
     "output_type": "execute_result"
    }
   ],
   "source": [
    "Adult_data.describe()\n"
   ]
  },
  {
   "cell_type": "markdown",
   "metadata": {},
   "source": [
    "We can now divide our columns in to the categorical and numerical columns. Make a list of categorical and numerical columns.  We may already discard 'fnlwgt' at this stage as it is not a useful variable for the prediction of income.  We can exclude it here.  "
   ]
  },
  {
   "cell_type": "code",
   "execution_count": 4,
   "metadata": {},
   "outputs": [
    {
     "name": "stdout",
     "output_type": "stream",
     "text": [
      "   workclass     education      marital-status         occupation  \\\n",
      "0    Private          11th       Never-married  Machine-op-inspct   \n",
      "1    Private       HS-grad  Married-civ-spouse    Farming-fishing   \n",
      "2  Local-gov    Assoc-acdm  Married-civ-spouse    Protective-serv   \n",
      "3    Private  Some-college  Married-civ-spouse  Machine-op-inspct   \n",
      "4          ?  Some-college       Never-married                  ?   \n",
      "\n",
      "  relationship   race  gender native-country income  \n",
      "0    Own-child  Black    Male  United-States  <=50K  \n",
      "1      Husband  White    Male  United-States  <=50K  \n",
      "2      Husband  White    Male  United-States   >50K  \n",
      "3      Husband  Black    Male  United-States   >50K  \n",
      "4    Own-child  White  Female  United-States  <=50K  \n",
      "   age  educational-num  capital-gain  capital-loss  hours-per-week\n",
      "0   25                7             0             0              40\n",
      "1   38                9             0             0              50\n",
      "2   28               12             0             0              40\n",
      "3   44               10          7688             0              40\n",
      "4   18               10             0             0              30\n"
     ]
    }
   ],
   "source": [
    "Adult_Categorical = [\"workclass\", \"education\",\"marital-status\",\"occupation\", \"relationship\",\"race\",\"gender\",\"native-country\",\"income\"]\n",
    "\n",
    "Adult_Numeric = [\"age\", \"educational-num\", \"capital-gain\", \"capital-loss\", \"hours-per-week\"]\n",
    "\n",
    "print(Adult_data[Adult_Categorical].head())\n",
    "print(Adult_data[Adult_Numeric].head())"
   ]
  },
  {
   "cell_type": "markdown",
   "metadata": {},
   "source": [
    "For the categorical values, we can find the number of unique fields in each to understand the different types of encodings that we may apply.  If we have too many unique values then hot-encoding may not be right and we may use a `ordinal encoding` instead.   "
   ]
  },
  {
   "cell_type": "code",
   "execution_count": 5,
   "metadata": {},
   "outputs": [
    {
     "name": "stdout",
     "output_type": "stream",
     "text": [
      "<class 'pandas.core.frame.DataFrame'>\n",
      "RangeIndex: 48842 entries, 0 to 48841\n",
      "Data columns (total 9 columns):\n",
      " #   Column          Non-Null Count  Dtype \n",
      "---  ------          --------------  ----- \n",
      " 0   workclass       48842 non-null  object\n",
      " 1   education       48842 non-null  object\n",
      " 2   marital-status  48842 non-null  object\n",
      " 3   occupation      48842 non-null  object\n",
      " 4   relationship    48842 non-null  object\n",
      " 5   race            48842 non-null  object\n",
      " 6   gender          48842 non-null  object\n",
      " 7   native-country  48842 non-null  object\n",
      " 8   income          48842 non-null  object\n",
      "dtypes: object(9)\n",
      "memory usage: 3.4+ MB\n",
      "None\n",
      "Check secondary dimension\n",
      "native-country    42\n",
      "education         16\n",
      "occupation        15\n",
      "workclass          9\n",
      "marital-status     7\n",
      "relationship       6\n",
      "race               5\n",
      "gender             2\n",
      "income             2\n",
      "dtype: int64\n"
     ]
    }
   ],
   "source": [
    "print(Adult_data[Adult_Categorical].info())\n",
    "print(\"Check secondary dimension\")\n",
    "print(Adult_data[Adult_Categorical].nunique().sort_values(ascending=False))\n"
   ]
  },
  {
   "cell_type": "markdown",
   "metadata": {},
   "source": [
    "## Feature construction\n",
    "\n",
    "One column that we could transform is _native-country_ as it has too many values to be useful.  Let us first visualise it against the decision or target variable _income_."
   ]
  },
  {
   "cell_type": "code",
   "execution_count": 6,
   "metadata": {},
   "outputs": [
    {
     "data": {
      "text/plain": [
       "<matplotlib.legend.Legend at 0x143a736b0>"
      ]
     },
     "execution_count": 6,
     "metadata": {},
     "output_type": "execute_result"
    },
    {
     "data": {
      "image/png": "[encoded data removed]",
      "text/plain": [
       "<Figure size 1000x400 with 1 Axes>"
      ]
     },
     "metadata": {},
     "output_type": "display_data"
    }
   ],
   "source": [
    "\n",
    "    \"\"\" Make distribution plots of df for a defined column using hue\"\"\"\n",
    "    plt.figure(figsize=(10,4))\n",
    "    #Set labels to be vertical in the axis\n",
    "    plt.xticks(rotation=90)\n",
    "    # produce a plot \n",
    "    sns.countplot(x=\"native-country\", hue=\"income\",palette=\"coolwarm\", data=Adult_data)\n",
    "    #include a dynamic title\n",
    "    plt.title(\"Distribution of native country\")\n",
    "     #include a legend\n",
    "    plt.legend()\n",
    "\n"
   ]
  },
  {
   "cell_type": "markdown",
   "metadata": {},
   "source": [
    "It is clear that it has to many not particularly useful values.  We could convert this to a variable that has a value of 1 if the person has 'United_States' as 'native-country' and 0 for all others.  So we count those born in the USA against all others.  Transform the variable in this way. "
   ]
  },
  {
   "cell_type": "code",
   "execution_count": 7,
   "metadata": {},
   "outputs": [
    {
     "name": "stdout",
     "output_type": "stream",
     "text": [
      "       age     workclass  fnlwgt     education  educational-num  \\\n",
      "0       25       Private  226802          11th                7   \n",
      "1       38       Private   89814       HS-grad                9   \n",
      "2       28     Local-gov  336951    Assoc-acdm               12   \n",
      "3       44       Private  160323  Some-college               10   \n",
      "4       18             ?  103497  Some-college               10   \n",
      "...    ...           ...     ...           ...              ...   \n",
      "48837   27       Private  257302    Assoc-acdm               12   \n",
      "48838   40       Private  154374       HS-grad                9   \n",
      "48839   58       Private  151910       HS-grad                9   \n",
      "48840   22       Private  201490       HS-grad                9   \n",
      "48841   52  Self-emp-inc  287927       HS-grad                9   \n",
      "\n",
      "           marital-status         occupation relationship   race  gender  \\\n",
      "0           Never-married  Machine-op-inspct    Own-child  Black    Male   \n",
      "1      Married-civ-spouse    Farming-fishing      Husband  White    Male   \n",
      "2      Married-civ-spouse    Protective-serv      Husband  White    Male   \n",
      "3      Married-civ-spouse  Machine-op-inspct      Husband  Black    Male   \n",
      "4           Never-married                  ?    Own-child  White  Female   \n",
      "...                   ...                ...          ...    ...     ...   \n",
      "48837  Married-civ-spouse       Tech-support         Wife  White  Female   \n",
      "48838  Married-civ-spouse  Machine-op-inspct      Husband  White    Male   \n",
      "48839             Widowed       Adm-clerical    Unmarried  White  Female   \n",
      "48840       Never-married       Adm-clerical    Own-child  White    Male   \n",
      "48841  Married-civ-spouse    Exec-managerial         Wife  White  Female   \n",
      "\n",
      "       capital-gain  capital-loss  hours-per-week native-country income  \\\n",
      "0                 0             0              40  United-States  <=50K   \n",
      "1                 0             0              50  United-States  <=50K   \n",
      "2                 0             0              40  United-States   >50K   \n",
      "3              7688             0              40  United-States   >50K   \n",
      "4                 0             0              30  United-States  <=50K   \n",
      "...             ...           ...             ...            ...    ...   \n",
      "48837             0             0              38  United-States  <=50K   \n",
      "48838             0             0              40  United-States   >50K   \n",
      "48839             0             0              40  United-States  <=50K   \n",
      "48840             0             0              20  United-States  <=50K   \n",
      "48841         15024             0              40  United-States   >50K   \n",
      "\n",
      "       native-US  \n",
      "0            1.0  \n",
      "1            1.0  \n",
      "2            1.0  \n",
      "3            1.0  \n",
      "4            1.0  \n",
      "...          ...  \n",
      "48837        1.0  \n",
      "48838        1.0  \n",
      "48839        1.0  \n",
      "48840        1.0  \n",
      "48841        1.0  \n",
      "\n",
      "[48842 rows x 16 columns]\n"
     ]
    }
   ],
   "source": [
    "Adult_data['native-US'] = np.where(Adult_data['native-country']== 'United-States', 1.0, 0.0)\n",
    "print(Adult_data)"
   ]
  },
  {
   "cell_type": "markdown",
   "metadata": {},
   "source": [
    "Now visualise it again, against the target variable. "
   ]
  },
  {
   "cell_type": "code",
   "execution_count": 8,
   "metadata": {},
   "outputs": [
    {
     "data": {
      "text/plain": [
       "<matplotlib.legend.Legend at 0x145467e90>"
      ]
     },
     "execution_count": 8,
     "metadata": {},
     "output_type": "execute_result"
    },
    {
     "data": {
      "image/png": "[encoded data removed]",
      "text/plain": [
       "<Figure size 1000x400 with 1 Axes>"
      ]
     },
     "metadata": {},
     "output_type": "display_data"
    }
   ],
   "source": [
    "\n",
    "\"\"\" Make distribution plots of df for a defined column using hue\"\"\"\n",
    "plt.figure(figsize=(10,4))\n",
    "#Set labels to be vertical in the axis\n",
    "plt.xticks(rotation=90)\n",
    "# produce a plot \n",
    "sns.countplot(x=\"native-US\", hue=\"income\",palette=\"coolwarm\", data=Adult_data)\n",
    "#include a dynamic title\n",
    "plt.title(\"Distribution if native country is US\")\n",
    "#include a legend\n",
    "plt.legend()\n"
   ]
  },
  {
   "cell_type": "markdown",
   "metadata": {},
   "source": [
    "We can also perhaps combine _capital_gain_ and _capital-loss_ into a more useful variable.  Let us see what there values may look like against one another.  We can do this by creating a scatterplot to show _capital_gain_ against _capital-loss_. "
   ]
  },
  {
   "cell_type": "code",
   "execution_count": 9,
   "metadata": {},
   "outputs": [
    {
     "data": {
      "text/plain": [
       "<matplotlib.collections.PathCollection at 0x10ce2cf50>"
      ]
     },
     "execution_count": 9,
     "metadata": {},
     "output_type": "execute_result"
    },
    {
     "data": {
      "image/png": "[encoded data removed]",
      "text/plain": [
       "<Figure size 640x480 with 1 Axes>"
      ]
     },
     "metadata": {},
     "output_type": "display_data"
    }
   ],
   "source": [
    "\n",
    "#Use scatter \n",
    "plt.scatter(Adult_data['capital-gain'], Adult_data['capital-loss'], color='k', s=3, label='Capital Gain vs Capital Loss')"
   ]
  },
  {
   "cell_type": "markdown",
   "metadata": {},
   "source": [
    "It seems to show that when _capital-loss_ has a non zero value _capital-gain_ is zero and viceversa.  To make sure this is the case, let us select any records which have both  _capital_gain_ and _capital-loss_ as positive values. "
   ]
  },
  {
   "cell_type": "code",
   "execution_count": 10,
   "metadata": {},
   "outputs": [
    {
     "name": "stdout",
     "output_type": "stream",
     "text": [
      "Empty DataFrame\n",
      "Columns: [age, workclass, fnlwgt, education, educational-num, marital-status, occupation, relationship, race, gender, capital-gain, capital-loss, hours-per-week, native-country, income, native-US]\n",
      "Index: []\n",
      "       age  workclass  fnlwgt     education  educational-num  \\\n",
      "0       25    Private  226802          11th                7   \n",
      "1       38    Private   89814       HS-grad                9   \n",
      "2       28  Local-gov  336951    Assoc-acdm               12   \n",
      "4       18          ?  103497  Some-college               10   \n",
      "5       34    Private  198693          10th                6   \n",
      "...    ...        ...     ...           ...              ...   \n",
      "48836   22    Private  310152  Some-college               10   \n",
      "48837   27    Private  257302    Assoc-acdm               12   \n",
      "48838   40    Private  154374       HS-grad                9   \n",
      "48839   58    Private  151910       HS-grad                9   \n",
      "48840   22    Private  201490       HS-grad                9   \n",
      "\n",
      "           marital-status         occupation   relationship   race  gender  \\\n",
      "0           Never-married  Machine-op-inspct      Own-child  Black    Male   \n",
      "1      Married-civ-spouse    Farming-fishing        Husband  White    Male   \n",
      "2      Married-civ-spouse    Protective-serv        Husband  White    Male   \n",
      "4           Never-married                  ?      Own-child  White  Female   \n",
      "5           Never-married      Other-service  Not-in-family  White    Male   \n",
      "...                   ...                ...            ...    ...     ...   \n",
      "48836       Never-married    Protective-serv  Not-in-family  White    Male   \n",
      "48837  Married-civ-spouse       Tech-support           Wife  White  Female   \n",
      "48838  Married-civ-spouse  Machine-op-inspct        Husband  White    Male   \n",
      "48839             Widowed       Adm-clerical      Unmarried  White  Female   \n",
      "48840       Never-married       Adm-clerical      Own-child  White    Male   \n",
      "\n",
      "       capital-gain  capital-loss  hours-per-week native-country income  \\\n",
      "0                 0             0              40  United-States  <=50K   \n",
      "1                 0             0              50  United-States  <=50K   \n",
      "2                 0             0              40  United-States   >50K   \n",
      "4                 0             0              30  United-States  <=50K   \n",
      "5                 0             0              30  United-States  <=50K   \n",
      "...             ...           ...             ...            ...    ...   \n",
      "48836             0             0              40  United-States  <=50K   \n",
      "48837             0             0              38  United-States  <=50K   \n",
      "48838             0             0              40  United-States   >50K   \n",
      "48839             0             0              40  United-States  <=50K   \n",
      "48840             0             0              20  United-States  <=50K   \n",
      "\n",
      "       native-US  \n",
      "0            1.0  \n",
      "1            1.0  \n",
      "2            1.0  \n",
      "4            1.0  \n",
      "5            1.0  \n",
      "...          ...  \n",
      "48836        1.0  \n",
      "48837        1.0  \n",
      "48838        1.0  \n",
      "48839        1.0  \n",
      "48840        1.0  \n",
      "\n",
      "[42525 rows x 16 columns]\n"
     ]
    }
   ],
   "source": [
    "print(Adult_data.loc[(Adult_data['capital-gain']>0) & (Adult_data['capital-loss'] > 0)])\n",
    "\n",
    "print(Adult_data.loc[(Adult_data['capital-gain']==0) & (Adult_data['capital-loss'] == 0)])\n",
    "\n"
   ]
  },
  {
   "cell_type": "markdown",
   "metadata": {},
   "source": [
    "Since there are no records, we could transform these two into a new variable, say _GainLoss_ which has a value of -1 if the person reported any _capital-loss_, 1, if they reported a _capital-gain_ and 0 of they reported neither.  "
   ]
  },
  {
   "cell_type": "code",
   "execution_count": 11,
   "metadata": {},
   "outputs": [
    {
     "data": {
      "text/html": [
       "<div>\n",
       "<style scoped>\n",
       "    .dataframe tbody tr th:only-of-type {\n",
       "        vertical-align: middle;\n",
       "    }\n",
       "\n",
       "    .dataframe tbody tr th {\n",
       "        vertical-align: top;\n",
       "    }\n",
       "\n",
       "    .dataframe thead th {\n",
       "        text-align: right;\n",
       "    }\n",
       "</style>\n",
       "<table border=\"1\" class=\"dataframe\">\n",
       "  <thead>\n",
       "    <tr style=\"text-align: right;\">\n",
       "      <th></th>\n",
       "      <th>age</th>\n",
       "      <th>workclass</th>\n",
       "      <th>fnlwgt</th>\n",
       "      <th>education</th>\n",
       "      <th>educational-num</th>\n",
       "      <th>marital-status</th>\n",
       "      <th>occupation</th>\n",
       "      <th>relationship</th>\n",
       "      <th>race</th>\n",
       "      <th>gender</th>\n",
       "      <th>capital-gain</th>\n",
       "      <th>capital-loss</th>\n",
       "      <th>hours-per-week</th>\n",
       "      <th>native-country</th>\n",
       "      <th>income</th>\n",
       "      <th>native-US</th>\n",
       "      <th>GainLoss</th>\n",
       "    </tr>\n",
       "  </thead>\n",
       "  <tbody>\n",
       "    <tr>\n",
       "      <th>0</th>\n",
       "      <td>25</td>\n",
       "      <td>Private</td>\n",
       "      <td>226802</td>\n",
       "      <td>11th</td>\n",
       "      <td>7</td>\n",
       "      <td>Never-married</td>\n",
       "      <td>Machine-op-inspct</td>\n",
       "      <td>Own-child</td>\n",
       "      <td>Black</td>\n",
       "      <td>Male</td>\n",
       "      <td>0</td>\n",
       "      <td>0</td>\n",
       "      <td>40</td>\n",
       "      <td>United-States</td>\n",
       "      <td>&lt;=50K</td>\n",
       "      <td>1.0</td>\n",
       "      <td>0.0</td>\n",
       "    </tr>\n",
       "    <tr>\n",
       "      <th>1</th>\n",
       "      <td>38</td>\n",
       "      <td>Private</td>\n",
       "      <td>89814</td>\n",
       "      <td>HS-grad</td>\n",
       "      <td>9</td>\n",
       "      <td>Married-civ-spouse</td>\n",
       "      <td>Farming-fishing</td>\n",
       "      <td>Husband</td>\n",
       "      <td>White</td>\n",
       "      <td>Male</td>\n",
       "      <td>0</td>\n",
       "      <td>0</td>\n",
       "      <td>50</td>\n",
       "      <td>United-States</td>\n",
       "      <td>&lt;=50K</td>\n",
       "      <td>1.0</td>\n",
       "      <td>0.0</td>\n",
       "    </tr>\n",
       "    <tr>\n",
       "      <th>2</th>\n",
       "      <td>28</td>\n",
       "      <td>Local-gov</td>\n",
       "      <td>336951</td>\n",
       "      <td>Assoc-acdm</td>\n",
       "      <td>12</td>\n",
       "      <td>Married-civ-spouse</td>\n",
       "      <td>Protective-serv</td>\n",
       "      <td>Husband</td>\n",
       "      <td>White</td>\n",
       "      <td>Male</td>\n",
       "      <td>0</td>\n",
       "      <td>0</td>\n",
       "      <td>40</td>\n",
       "      <td>United-States</td>\n",
       "      <td>&gt;50K</td>\n",
       "      <td>1.0</td>\n",
       "      <td>0.0</td>\n",
       "    </tr>\n",
       "    <tr>\n",
       "      <th>3</th>\n",
       "      <td>44</td>\n",
       "      <td>Private</td>\n",
       "      <td>160323</td>\n",
       "      <td>Some-college</td>\n",
       "      <td>10</td>\n",
       "      <td>Married-civ-spouse</td>\n",
       "      <td>Machine-op-inspct</td>\n",
       "      <td>Husband</td>\n",
       "      <td>Black</td>\n",
       "      <td>Male</td>\n",
       "      <td>7688</td>\n",
       "      <td>0</td>\n",
       "      <td>40</td>\n",
       "      <td>United-States</td>\n",
       "      <td>&gt;50K</td>\n",
       "      <td>1.0</td>\n",
       "      <td>1.0</td>\n",
       "    </tr>\n",
       "    <tr>\n",
       "      <th>4</th>\n",
       "      <td>18</td>\n",
       "      <td>?</td>\n",
       "      <td>103497</td>\n",
       "      <td>Some-college</td>\n",
       "      <td>10</td>\n",
       "      <td>Never-married</td>\n",
       "      <td>?</td>\n",
       "      <td>Own-child</td>\n",
       "      <td>White</td>\n",
       "      <td>Female</td>\n",
       "      <td>0</td>\n",
       "      <td>0</td>\n",
       "      <td>30</td>\n",
       "      <td>United-States</td>\n",
       "      <td>&lt;=50K</td>\n",
       "      <td>1.0</td>\n",
       "      <td>0.0</td>\n",
       "    </tr>\n",
       "  </tbody>\n",
       "</table>\n",
       "</div>"
      ],
      "text/plain": [
       "   age  workclass  fnlwgt     education  educational-num      marital-status  \\\n",
       "0   25    Private  226802          11th                7       Never-married   \n",
       "1   38    Private   89814       HS-grad                9  Married-civ-spouse   \n",
       "2   28  Local-gov  336951    Assoc-acdm               12  Married-civ-spouse   \n",
       "3   44    Private  160323  Some-college               10  Married-civ-spouse   \n",
       "4   18          ?  103497  Some-college               10       Never-married   \n",
       "\n",
       "          occupation relationship   race  gender  capital-gain  capital-loss  \\\n",
       "0  Machine-op-inspct    Own-child  Black    Male             0             0   \n",
       "1    Farming-fishing      Husband  White    Male             0             0   \n",
       "2    Protective-serv      Husband  White    Male             0             0   \n",
       "3  Machine-op-inspct      Husband  Black    Male          7688             0   \n",
       "4                  ?    Own-child  White  Female             0             0   \n",
       "\n",
       "   hours-per-week native-country income  native-US  GainLoss  \n",
       "0              40  United-States  <=50K        1.0       0.0  \n",
       "1              50  United-States  <=50K        1.0       0.0  \n",
       "2              40  United-States   >50K        1.0       0.0  \n",
       "3              40  United-States   >50K        1.0       1.0  \n",
       "4              30  United-States  <=50K        1.0       0.0  "
      ]
     },
     "execution_count": 11,
     "metadata": {},
     "output_type": "execute_result"
    }
   ],
   "source": [
    "# create a list of our conditions\n",
    "conditions = [\n",
    "    (Adult_data['capital-gain'] > 0),\n",
    "    (Adult_data['capital-loss'] > 0),\n",
    "    ((Adult_data['capital-gain'] == 0) & (Adult_data['capital-loss']== 0))\n",
    "    ]\n",
    "\n",
    "\n",
    "# create a list of the values we want to assign for each condition\n",
    "values = [1.0, -1.0, 0.0]\n",
    "\n",
    "# create a new column and use np.select to assign values to it using our lists as arguments\n",
    "Adult_data['GainLoss'] = np.select(conditions, values)\n",
    "\n",
    "# display updated DataFrame\n",
    "Adult_data.head()\n"
   ]
  },
  {
   "cell_type": "markdown",
   "metadata": {},
   "source": [
    "We can now visualise values for the new variable against the _income_."
   ]
  },
  {
   "cell_type": "code",
   "execution_count": 12,
   "metadata": {},
   "outputs": [
    {
     "data": {
      "text/plain": [
       "<matplotlib.legend.Legend at 0x1453d0f80>"
      ]
     },
     "execution_count": 12,
     "metadata": {},
     "output_type": "execute_result"
    },
    {
     "data": {
      "image/png": "[encoded data removed]",
      "text/plain": [
       "<Figure size 1000x400 with 1 Axes>"
      ]
     },
     "metadata": {},
     "output_type": "display_data"
    }
   ],
   "source": [
    "\"\"\" Make distribution plots of df for a defined column using hue\"\"\"\n",
    "plt.figure(figsize=(10,4))\n",
    "#Set labels to be vertical in the axis\n",
    "plt.xticks(rotation=90)\n",
    "# produce a plot \n",
    "sns.countplot(x=\"GainLoss\", hue=\"income\",palette=\"coolwarm\", data=Adult_data)\n",
    "#include a dynamic title\n",
    "plt.title(\"Distribution of Gain vs Loss\")\n",
    "#include a legend\n",
    "plt.legend()"
   ]
  },
  {
   "cell_type": "markdown",
   "metadata": {},
   "source": [
    "## Categorical encoding\n",
    "So we have transformed or created a couple of variables.  What categorical variables are now left in the data frame? "
   ]
  },
  {
   "cell_type": "code",
   "execution_count": 13,
   "metadata": {},
   "outputs": [
    {
     "name": "stdout",
     "output_type": "stream",
     "text": [
      "          workclass     education      marital-status         occupation  \\\n",
      "0           Private          11th       Never-married  Machine-op-inspct   \n",
      "1           Private       HS-grad  Married-civ-spouse    Farming-fishing   \n",
      "2         Local-gov    Assoc-acdm  Married-civ-spouse    Protective-serv   \n",
      "3           Private  Some-college  Married-civ-spouse  Machine-op-inspct   \n",
      "4                 ?  Some-college       Never-married                  ?   \n",
      "...             ...           ...                 ...                ...   \n",
      "48837       Private    Assoc-acdm  Married-civ-spouse       Tech-support   \n",
      "48838       Private       HS-grad  Married-civ-spouse  Machine-op-inspct   \n",
      "48839       Private       HS-grad             Widowed       Adm-clerical   \n",
      "48840       Private       HS-grad       Never-married       Adm-clerical   \n",
      "48841  Self-emp-inc       HS-grad  Married-civ-spouse    Exec-managerial   \n",
      "\n",
      "      relationship   race  gender native-country income  \n",
      "0        Own-child  Black    Male  United-States  <=50K  \n",
      "1          Husband  White    Male  United-States  <=50K  \n",
      "2          Husband  White    Male  United-States   >50K  \n",
      "3          Husband  Black    Male  United-States   >50K  \n",
      "4        Own-child  White  Female  United-States  <=50K  \n",
      "...            ...    ...     ...            ...    ...  \n",
      "48837         Wife  White  Female  United-States  <=50K  \n",
      "48838      Husband  White    Male  United-States   >50K  \n",
      "48839    Unmarried  White  Female  United-States  <=50K  \n",
      "48840    Own-child  White    Male  United-States  <=50K  \n",
      "48841         Wife  White  Female  United-States   >50K  \n",
      "\n",
      "[48842 rows x 9 columns]\n",
      "['Never-married' 'Married-civ-spouse' 'Widowed' 'Divorced' 'Separated'\n",
      " 'Married-spouse-absent' 'Married-AF-spouse']\n",
      "['Own-child' 'Husband' 'Not-in-family' 'Unmarried' 'Wife' 'Other-relative']\n",
      "native-country    42\n",
      "education         16\n",
      "occupation        15\n",
      "workclass          9\n",
      "marital-status     7\n",
      "relationship       6\n",
      "race               5\n",
      "gender             2\n",
      "income             2\n",
      "dtype: int64\n"
     ]
    }
   ],
   "source": [
    "# print(Adult_data.select_dtypes(exclude=[\"number\",\"bool_\",\"object_\"]))\n",
    "\n",
    "print(Adult_data.select_dtypes(include=[\"object\"]))\n",
    "\n",
    "# Is GainLoss considered categorical?? is Native-US??\n",
    "\n",
    "print(Adult_data['marital-status'].unique())\n",
    "\n",
    "print(Adult_data['relationship'].unique())\n",
    "\n",
    "print(Adult_data[Adult_Categorical].nunique().sort_values(ascending=False))"
   ]
  },
  {
   "cell_type": "markdown",
   "metadata": {},
   "source": [
    "Choose some of those to be encoded with an `OrdinalEncoder` and perform the encoding.  Put the encoded new variables along with the other data in a new data frame called `X`.  I will leave the smallest 3 in terms of list amount of unique values for `OneHotEncoding`."
   ]
  },
  {
   "cell_type": "code",
   "execution_count": 14,
   "metadata": {},
   "outputs": [
    {
     "name": "stderr",
     "output_type": "stream",
     "text": [
      "/usr/local/Caskroom/mambaforge/base/envs/uea/lib/python3.12/site-packages/category_encoders/ordinal.py:210: FutureWarning: A value is trying to be set on a copy of a DataFrame or Series through chained assignment using an inplace method.\n",
      "The behavior will change in pandas 3.0. This inplace method will never work because the intermediate object on which we are setting values always behaves as a copy.\n",
      "\n",
      "For example, when doing 'df[col].method(value, inplace=True)', try using 'df.method({col: value}, inplace=True)' or df[col] = df[col].method(value) instead, to perform the operation inplace on the original object.\n",
      "\n",
      "\n",
      "  X[column].fillna(-1, inplace=True)\n",
      "/usr/local/Caskroom/mambaforge/base/envs/uea/lib/python3.12/site-packages/category_encoders/ordinal.py:210: FutureWarning: A value is trying to be set on a copy of a DataFrame or Series through chained assignment using an inplace method.\n",
      "The behavior will change in pandas 3.0. This inplace method will never work because the intermediate object on which we are setting values always behaves as a copy.\n",
      "\n",
      "For example, when doing 'df[col].method(value, inplace=True)', try using 'df.method({col: value}, inplace=True)' or df[col] = df[col].method(value) instead, to perform the operation inplace on the original object.\n",
      "\n",
      "\n",
      "  X[column].fillna(-1, inplace=True)\n",
      "/usr/local/Caskroom/mambaforge/base/envs/uea/lib/python3.12/site-packages/category_encoders/ordinal.py:210: FutureWarning: A value is trying to be set on a copy of a DataFrame or Series through chained assignment using an inplace method.\n",
      "The behavior will change in pandas 3.0. This inplace method will never work because the intermediate object on which we are setting values always behaves as a copy.\n",
      "\n",
      "For example, when doing 'df[col].method(value, inplace=True)', try using 'df.method({col: value}, inplace=True)' or df[col] = df[col].method(value) instead, to perform the operation inplace on the original object.\n",
      "\n",
      "\n",
      "  X[column].fillna(-1, inplace=True)\n",
      "/usr/local/Caskroom/mambaforge/base/envs/uea/lib/python3.12/site-packages/category_encoders/ordinal.py:210: FutureWarning: A value is trying to be set on a copy of a DataFrame or Series through chained assignment using an inplace method.\n",
      "The behavior will change in pandas 3.0. This inplace method will never work because the intermediate object on which we are setting values always behaves as a copy.\n",
      "\n",
      "For example, when doing 'df[col].method(value, inplace=True)', try using 'df.method({col: value}, inplace=True)' or df[col] = df[col].method(value) instead, to perform the operation inplace on the original object.\n",
      "\n",
      "\n",
      "  X[column].fillna(-1, inplace=True)\n",
      "/usr/local/Caskroom/mambaforge/base/envs/uea/lib/python3.12/site-packages/category_encoders/ordinal.py:210: FutureWarning: A value is trying to be set on a copy of a DataFrame or Series through chained assignment using an inplace method.\n",
      "The behavior will change in pandas 3.0. This inplace method will never work because the intermediate object on which we are setting values always behaves as a copy.\n",
      "\n",
      "For example, when doing 'df[col].method(value, inplace=True)', try using 'df.method({col: value}, inplace=True)' or df[col] = df[col].method(value) instead, to perform the operation inplace on the original object.\n",
      "\n",
      "\n",
      "  X[column].fillna(-1, inplace=True)\n",
      "/usr/local/Caskroom/mambaforge/base/envs/uea/lib/python3.12/site-packages/category_encoders/ordinal.py:210: FutureWarning: A value is trying to be set on a copy of a DataFrame or Series through chained assignment using an inplace method.\n",
      "The behavior will change in pandas 3.0. This inplace method will never work because the intermediate object on which we are setting values always behaves as a copy.\n",
      "\n",
      "For example, when doing 'df[col].method(value, inplace=True)', try using 'df.method({col: value}, inplace=True)' or df[col] = df[col].method(value) instead, to perform the operation inplace on the original object.\n",
      "\n",
      "\n",
      "  X[column].fillna(-1, inplace=True)\n",
      "/usr/local/Caskroom/mambaforge/base/envs/uea/lib/python3.12/site-packages/category_encoders/ordinal.py:210: FutureWarning: A value is trying to be set on a copy of a DataFrame or Series through chained assignment using an inplace method.\n",
      "The behavior will change in pandas 3.0. This inplace method will never work because the intermediate object on which we are setting values always behaves as a copy.\n",
      "\n",
      "For example, when doing 'df[col].method(value, inplace=True)', try using 'df.method({col: value}, inplace=True)' or df[col] = df[col].method(value) instead, to perform the operation inplace on the original object.\n",
      "\n",
      "\n",
      "  X[column].fillna(-1, inplace=True)\n",
      "/usr/local/Caskroom/mambaforge/base/envs/uea/lib/python3.12/site-packages/category_encoders/ordinal.py:210: FutureWarning: A value is trying to be set on a copy of a DataFrame or Series through chained assignment using an inplace method.\n",
      "The behavior will change in pandas 3.0. This inplace method will never work because the intermediate object on which we are setting values always behaves as a copy.\n",
      "\n",
      "For example, when doing 'df[col].method(value, inplace=True)', try using 'df.method({col: value}, inplace=True)' or df[col] = df[col].method(value) instead, to perform the operation inplace on the original object.\n",
      "\n",
      "\n",
      "  X[column].fillna(-1, inplace=True)\n"
     ]
    },
    {
     "data": {
      "text/plain": [
       "pandas.core.frame.DataFrame"
      ]
     },
     "execution_count": 14,
     "metadata": {},
     "output_type": "execute_result"
    }
   ],
   "source": [
    "\n",
    "# from sklearn.preprocessing import CategoricalEncoder\n",
    "import category_encoders as ce\n",
    "\n",
    "# We establish the Ordinal encoder which will convert each categorical label to a number\n",
    "# We specify the columns we want to transform, we ask it to handle missing values if any and also to return a dataframe instead of an np array\n",
    "enc = ce.OrdinalEncoder(cols=[\"education\",\"occupation\",\"workclass\",\"marital-status\"],handle_missing='return_nan',return_df= True)\n",
    "\n",
    "#We now fit the model and transform the data and put it in X which is a dataframe\n",
    "X=enc.fit_transform(Adult_data)\n",
    "type(X)"
   ]
  },
  {
   "cell_type": "markdown",
   "metadata": {},
   "source": [
    "Now look at the contents of X so far. "
   ]
  },
  {
   "cell_type": "code",
   "execution_count": 15,
   "metadata": {},
   "outputs": [
    {
     "name": "stdout",
     "output_type": "stream",
     "text": [
      "Index(['age', 'workclass', 'education', 'educational-num', 'marital-status',\n",
      "       'occupation', 'relationship', 'race', 'gender', 'hours-per-week',\n",
      "       'income', 'native-US', 'GainLoss'],\n",
      "      dtype='object')\n"
     ]
    }
   ],
   "source": [
    "X.head()\n",
    "\n",
    "#Drop unecessary columns and hence set the final columns we will use as a list of column names\n",
    "X= X.drop(columns=['fnlwgt','native-country', 'capital-gain','capital-loss'])\n"
   ]
  },
  {
   "cell_type": "markdown",
   "metadata": {},
   "source": [
    "Let us perform `OneHotEncoding` for some other variables such as _gender_.  Append the new variables to _X_."
   ]
  },
  {
   "cell_type": "code",
   "execution_count": 16,
   "metadata": {},
   "outputs": [
    {
     "name": "stdout",
     "output_type": "stream",
     "text": [
      "RangeIndex(start=0, stop=2, step=1)\n",
      "       age  workclass  education  educational-num  marital-status  occupation  \\\n",
      "0       25        1.0        1.0                7             1.0         1.0   \n",
      "1       38        1.0        2.0                9             2.0         2.0   \n",
      "2       28        2.0        3.0               12             2.0         3.0   \n",
      "3       44        1.0        4.0               10             2.0         1.0   \n",
      "4       18        3.0        4.0               10             1.0         4.0   \n",
      "...    ...        ...        ...              ...             ...         ...   \n",
      "48837   27        1.0        3.0               12             2.0        10.0   \n",
      "48838   40        1.0        2.0                9             2.0         1.0   \n",
      "48839   58        1.0        2.0                9             3.0         8.0   \n",
      "48840   22        1.0        2.0                9             1.0         8.0   \n",
      "48841   52        7.0        2.0                9             2.0         9.0   \n",
      "\n",
      "      relationship   race  gender  hours-per-week income  native-US  GainLoss  \n",
      "0        Own-child  Black    Male              40  <=50K        1.0       0.0  \n",
      "1          Husband  White    Male              50  <=50K        1.0       0.0  \n",
      "2          Husband  White    Male              40   >50K        1.0       0.0  \n",
      "3          Husband  Black    Male              40   >50K        1.0       1.0  \n",
      "4        Own-child  White  Female              30  <=50K        1.0       0.0  \n",
      "...            ...    ...     ...             ...    ...        ...       ...  \n",
      "48837         Wife  White  Female              38  <=50K        1.0       0.0  \n",
      "48838      Husband  White    Male              40   >50K        1.0       0.0  \n",
      "48839    Unmarried  White  Female              40  <=50K        1.0       0.0  \n",
      "48840    Own-child  White    Male              20  <=50K        1.0       0.0  \n",
      "48841         Wife  White  Female              40   >50K        1.0       1.0  \n",
      "\n",
      "[48842 rows x 13 columns]\n",
      "       gender_Female  gender_Male\n",
      "0                0.0          1.0\n",
      "1                0.0          1.0\n",
      "2                0.0          1.0\n",
      "3                0.0          1.0\n",
      "4                1.0          0.0\n",
      "...              ...          ...\n",
      "48837            1.0          0.0\n",
      "48838            0.0          1.0\n",
      "48839            1.0          0.0\n",
      "48840            0.0          1.0\n",
      "48841            1.0          0.0\n",
      "\n",
      "[48842 rows x 2 columns]\n",
      "(48842, 13)\n",
      "       age  workclass  education  educational-num  marital-status  occupation  \\\n",
      "0       25        1.0        1.0                7             1.0         1.0   \n",
      "1       38        1.0        2.0                9             2.0         2.0   \n",
      "2       28        2.0        3.0               12             2.0         3.0   \n",
      "3       44        1.0        4.0               10             2.0         1.0   \n",
      "4       18        3.0        4.0               10             1.0         4.0   \n",
      "...    ...        ...        ...              ...             ...         ...   \n",
      "48837   27        1.0        3.0               12             2.0        10.0   \n",
      "48838   40        1.0        2.0                9             2.0         1.0   \n",
      "48839   58        1.0        2.0                9             3.0         8.0   \n",
      "48840   22        1.0        2.0                9             1.0         8.0   \n",
      "48841   52        7.0        2.0                9             2.0         9.0   \n",
      "\n",
      "      relationship   race  gender  hours-per-week income  native-US  GainLoss  \\\n",
      "0        Own-child  Black    Male              40  <=50K        1.0       0.0   \n",
      "1          Husband  White    Male              50  <=50K        1.0       0.0   \n",
      "2          Husband  White    Male              40   >50K        1.0       0.0   \n",
      "3          Husband  Black    Male              40   >50K        1.0       1.0   \n",
      "4        Own-child  White  Female              30  <=50K        1.0       0.0   \n",
      "...            ...    ...     ...             ...    ...        ...       ...   \n",
      "48837         Wife  White  Female              38  <=50K        1.0       0.0   \n",
      "48838      Husband  White    Male              40   >50K        1.0       0.0   \n",
      "48839    Unmarried  White  Female              40  <=50K        1.0       0.0   \n",
      "48840    Own-child  White    Male              20  <=50K        1.0       0.0   \n",
      "48841         Wife  White  Female              40   >50K        1.0       1.0   \n",
      "\n",
      "       gender_Female  gender_Male  \n",
      "0                0.0          1.0  \n",
      "1                0.0          1.0  \n",
      "2                0.0          1.0  \n",
      "3                0.0          1.0  \n",
      "4                1.0          0.0  \n",
      "...              ...          ...  \n",
      "48837            1.0          0.0  \n",
      "48838            0.0          1.0  \n",
      "48839            1.0          0.0  \n",
      "48840            0.0          1.0  \n",
      "48841            1.0          0.0  \n",
      "\n",
      "[48842 rows x 15 columns]\n"
     ]
    }
   ],
   "source": [
    "from sklearn.preprocessing import OneHotEncoder\n",
    "enc2 = OneHotEncoder(handle_unknown='ignore')\n",
    "\n",
    "# passing body_style column\n",
    "enc_df = pd.DataFrame(enc2.fit_transform(X[['gender']]).toarray())\n",
    "print(enc_df.columns)\n",
    "# X=X.join(enc_df)\n",
    "print(X)\n",
    "enc_df.columns = enc2.get_feature_names_out(['gender'])\n",
    "print(enc_df)\n",
    "print(X.shape)\n",
    "X= pd.concat([X, enc_df], axis=1)\n",
    "print(X)\n"
   ]
  },
  {
   "cell_type": "markdown",
   "metadata": {},
   "source": [
    "Let us do similar `OneHotEncoding` encoding of _Race_ and append to`X`."
   ]
  },
  {
   "cell_type": "code",
   "execution_count": 17,
   "metadata": {},
   "outputs": [
    {
     "name": "stdout",
     "output_type": "stream",
     "text": [
      "RangeIndex(start=0, stop=5, step=1)\n",
      "       age  workclass  education  educational-num  marital-status  occupation  \\\n",
      "0       25        1.0        1.0                7             1.0         1.0   \n",
      "1       38        1.0        2.0                9             2.0         2.0   \n",
      "2       28        2.0        3.0               12             2.0         3.0   \n",
      "3       44        1.0        4.0               10             2.0         1.0   \n",
      "4       18        3.0        4.0               10             1.0         4.0   \n",
      "...    ...        ...        ...              ...             ...         ...   \n",
      "48837   27        1.0        3.0               12             2.0        10.0   \n",
      "48838   40        1.0        2.0                9             2.0         1.0   \n",
      "48839   58        1.0        2.0                9             3.0         8.0   \n",
      "48840   22        1.0        2.0                9             1.0         8.0   \n",
      "48841   52        7.0        2.0                9             2.0         9.0   \n",
      "\n",
      "      relationship   race  gender  hours-per-week income  native-US  GainLoss  \\\n",
      "0        Own-child  Black    Male              40  <=50K        1.0       0.0   \n",
      "1          Husband  White    Male              50  <=50K        1.0       0.0   \n",
      "2          Husband  White    Male              40   >50K        1.0       0.0   \n",
      "3          Husband  Black    Male              40   >50K        1.0       1.0   \n",
      "4        Own-child  White  Female              30  <=50K        1.0       0.0   \n",
      "...            ...    ...     ...             ...    ...        ...       ...   \n",
      "48837         Wife  White  Female              38  <=50K        1.0       0.0   \n",
      "48838      Husband  White    Male              40   >50K        1.0       0.0   \n",
      "48839    Unmarried  White  Female              40  <=50K        1.0       0.0   \n",
      "48840    Own-child  White    Male              20  <=50K        1.0       0.0   \n",
      "48841         Wife  White  Female              40   >50K        1.0       1.0   \n",
      "\n",
      "       gender_Female  gender_Male  \n",
      "0                0.0          1.0  \n",
      "1                0.0          1.0  \n",
      "2                0.0          1.0  \n",
      "3                0.0          1.0  \n",
      "4                1.0          0.0  \n",
      "...              ...          ...  \n",
      "48837            1.0          0.0  \n",
      "48838            0.0          1.0  \n",
      "48839            1.0          0.0  \n",
      "48840            0.0          1.0  \n",
      "48841            1.0          0.0  \n",
      "\n",
      "[48842 rows x 15 columns]\n",
      "       race_Amer-Indian-Eskimo  race_Asian-Pac-Islander  race_Black  \\\n",
      "0                          0.0                      0.0         1.0   \n",
      "1                          0.0                      0.0         0.0   \n",
      "2                          0.0                      0.0         0.0   \n",
      "3                          0.0                      0.0         1.0   \n",
      "4                          0.0                      0.0         0.0   \n",
      "...                        ...                      ...         ...   \n",
      "48837                      0.0                      0.0         0.0   \n",
      "48838                      0.0                      0.0         0.0   \n",
      "48839                      0.0                      0.0         0.0   \n",
      "48840                      0.0                      0.0         0.0   \n",
      "48841                      0.0                      0.0         0.0   \n",
      "\n",
      "       race_Other  race_White  \n",
      "0             0.0         0.0  \n",
      "1             0.0         1.0  \n",
      "2             0.0         1.0  \n",
      "3             0.0         0.0  \n",
      "4             0.0         1.0  \n",
      "...           ...         ...  \n",
      "48837         0.0         1.0  \n",
      "48838         0.0         1.0  \n",
      "48839         0.0         1.0  \n",
      "48840         0.0         1.0  \n",
      "48841         0.0         1.0  \n",
      "\n",
      "[48842 rows x 5 columns]\n",
      "(48842, 15)\n",
      "       age  workclass  education  educational-num  marital-status  occupation  \\\n",
      "0       25        1.0        1.0                7             1.0         1.0   \n",
      "1       38        1.0        2.0                9             2.0         2.0   \n",
      "2       28        2.0        3.0               12             2.0         3.0   \n",
      "3       44        1.0        4.0               10             2.0         1.0   \n",
      "4       18        3.0        4.0               10             1.0         4.0   \n",
      "...    ...        ...        ...              ...             ...         ...   \n",
      "48837   27        1.0        3.0               12             2.0        10.0   \n",
      "48838   40        1.0        2.0                9             2.0         1.0   \n",
      "48839   58        1.0        2.0                9             3.0         8.0   \n",
      "48840   22        1.0        2.0                9             1.0         8.0   \n",
      "48841   52        7.0        2.0                9             2.0         9.0   \n",
      "\n",
      "      relationship   race  gender  hours-per-week income  native-US  GainLoss  \\\n",
      "0        Own-child  Black    Male              40  <=50K        1.0       0.0   \n",
      "1          Husband  White    Male              50  <=50K        1.0       0.0   \n",
      "2          Husband  White    Male              40   >50K        1.0       0.0   \n",
      "3          Husband  Black    Male              40   >50K        1.0       1.0   \n",
      "4        Own-child  White  Female              30  <=50K        1.0       0.0   \n",
      "...            ...    ...     ...             ...    ...        ...       ...   \n",
      "48837         Wife  White  Female              38  <=50K        1.0       0.0   \n",
      "48838      Husband  White    Male              40   >50K        1.0       0.0   \n",
      "48839    Unmarried  White  Female              40  <=50K        1.0       0.0   \n",
      "48840    Own-child  White    Male              20  <=50K        1.0       0.0   \n",
      "48841         Wife  White  Female              40   >50K        1.0       1.0   \n",
      "\n",
      "       gender_Female  gender_Male  race_Amer-Indian-Eskimo  \\\n",
      "0                0.0          1.0                      0.0   \n",
      "1                0.0          1.0                      0.0   \n",
      "2                0.0          1.0                      0.0   \n",
      "3                0.0          1.0                      0.0   \n",
      "4                1.0          0.0                      0.0   \n",
      "...              ...          ...                      ...   \n",
      "48837            1.0          0.0                      0.0   \n",
      "48838            0.0          1.0                      0.0   \n",
      "48839            1.0          0.0                      0.0   \n",
      "48840            0.0          1.0                      0.0   \n",
      "48841            1.0          0.0                      0.0   \n",
      "\n",
      "       race_Asian-Pac-Islander  race_Black  race_Other  race_White  \n",
      "0                          0.0         1.0         0.0         0.0  \n",
      "1                          0.0         0.0         0.0         1.0  \n",
      "2                          0.0         0.0         0.0         1.0  \n",
      "3                          0.0         1.0         0.0         0.0  \n",
      "4                          0.0         0.0         0.0         1.0  \n",
      "...                        ...         ...         ...         ...  \n",
      "48837                      0.0         0.0         0.0         1.0  \n",
      "48838                      0.0         0.0         0.0         1.0  \n",
      "48839                      0.0         0.0         0.0         1.0  \n",
      "48840                      0.0         0.0         0.0         1.0  \n",
      "48841                      0.0         0.0         0.0         1.0  \n",
      "\n",
      "[48842 rows x 20 columns]\n"
     ]
    }
   ],
   "source": [
    "enc3 = OneHotEncoder(handle_unknown='ignore')\n",
    "\n",
    "# passing body_style column\n",
    "enc_df1 = pd.DataFrame(enc3.fit_transform(X[['race']]).toarray())\n",
    "print(enc_df1.columns)\n",
    "# X=X.join(enc_df)\n",
    "print(X)\n",
    "enc_df1.columns = enc3.get_feature_names_out(['race'])\n",
    "print(enc_df1)\n",
    "print(X.shape)\n",
    "X= pd.concat([X, enc_df1], axis=1)\n",
    "print(X)\n",
    "\n",
    "\n"
   ]
  },
  {
   "cell_type": "markdown",
   "metadata": {},
   "source": [
    "Finally, let us also `OneHotEncode` the _relationship_ attribute and append also to `X`. "
   ]
  },
  {
   "cell_type": "code",
   "execution_count": 18,
   "metadata": {},
   "outputs": [
    {
     "name": "stdout",
     "output_type": "stream",
     "text": [
      "RangeIndex(start=0, stop=6, step=1)\n",
      "       age  workclass  education  educational-num  marital-status  occupation  \\\n",
      "0       25        1.0        1.0                7             1.0         1.0   \n",
      "1       38        1.0        2.0                9             2.0         2.0   \n",
      "2       28        2.0        3.0               12             2.0         3.0   \n",
      "3       44        1.0        4.0               10             2.0         1.0   \n",
      "4       18        3.0        4.0               10             1.0         4.0   \n",
      "...    ...        ...        ...              ...             ...         ...   \n",
      "48837   27        1.0        3.0               12             2.0        10.0   \n",
      "48838   40        1.0        2.0                9             2.0         1.0   \n",
      "48839   58        1.0        2.0                9             3.0         8.0   \n",
      "48840   22        1.0        2.0                9             1.0         8.0   \n",
      "48841   52        7.0        2.0                9             2.0         9.0   \n",
      "\n",
      "      relationship   race  gender  hours-per-week income  native-US  GainLoss  \\\n",
      "0        Own-child  Black    Male              40  <=50K        1.0       0.0   \n",
      "1          Husband  White    Male              50  <=50K        1.0       0.0   \n",
      "2          Husband  White    Male              40   >50K        1.0       0.0   \n",
      "3          Husband  Black    Male              40   >50K        1.0       1.0   \n",
      "4        Own-child  White  Female              30  <=50K        1.0       0.0   \n",
      "...            ...    ...     ...             ...    ...        ...       ...   \n",
      "48837         Wife  White  Female              38  <=50K        1.0       0.0   \n",
      "48838      Husband  White    Male              40   >50K        1.0       0.0   \n",
      "48839    Unmarried  White  Female              40  <=50K        1.0       0.0   \n",
      "48840    Own-child  White    Male              20  <=50K        1.0       0.0   \n",
      "48841         Wife  White  Female              40   >50K        1.0       1.0   \n",
      "\n",
      "       gender_Female  gender_Male  race_Amer-Indian-Eskimo  \\\n",
      "0                0.0          1.0                      0.0   \n",
      "1                0.0          1.0                      0.0   \n",
      "2                0.0          1.0                      0.0   \n",
      "3                0.0          1.0                      0.0   \n",
      "4                1.0          0.0                      0.0   \n",
      "...              ...          ...                      ...   \n",
      "48837            1.0          0.0                      0.0   \n",
      "48838            0.0          1.0                      0.0   \n",
      "48839            1.0          0.0                      0.0   \n",
      "48840            0.0          1.0                      0.0   \n",
      "48841            1.0          0.0                      0.0   \n",
      "\n",
      "       race_Asian-Pac-Islander  race_Black  race_Other  race_White  \n",
      "0                          0.0         1.0         0.0         0.0  \n",
      "1                          0.0         0.0         0.0         1.0  \n",
      "2                          0.0         0.0         0.0         1.0  \n",
      "3                          0.0         1.0         0.0         0.0  \n",
      "4                          0.0         0.0         0.0         1.0  \n",
      "...                        ...         ...         ...         ...  \n",
      "48837                      0.0         0.0         0.0         1.0  \n",
      "48838                      0.0         0.0         0.0         1.0  \n",
      "48839                      0.0         0.0         0.0         1.0  \n",
      "48840                      0.0         0.0         0.0         1.0  \n",
      "48841                      0.0         0.0         0.0         1.0  \n",
      "\n",
      "[48842 rows x 20 columns]\n",
      "       relationship_Husband  relationship_Not-in-family  \\\n",
      "0                       0.0                         0.0   \n",
      "1                       1.0                         0.0   \n",
      "2                       1.0                         0.0   \n",
      "3                       1.0                         0.0   \n",
      "4                       0.0                         0.0   \n",
      "...                     ...                         ...   \n",
      "48837                   0.0                         0.0   \n",
      "48838                   1.0                         0.0   \n",
      "48839                   0.0                         0.0   \n",
      "48840                   0.0                         0.0   \n",
      "48841                   0.0                         0.0   \n",
      "\n",
      "       relationship_Other-relative  relationship_Own-child  \\\n",
      "0                              0.0                     1.0   \n",
      "1                              0.0                     0.0   \n",
      "2                              0.0                     0.0   \n",
      "3                              0.0                     0.0   \n",
      "4                              0.0                     1.0   \n",
      "...                            ...                     ...   \n",
      "48837                          0.0                     0.0   \n",
      "48838                          0.0                     0.0   \n",
      "48839                          0.0                     0.0   \n",
      "48840                          0.0                     1.0   \n",
      "48841                          0.0                     0.0   \n",
      "\n",
      "       relationship_Unmarried  relationship_Wife  \n",
      "0                         0.0                0.0  \n",
      "1                         0.0                0.0  \n",
      "2                         0.0                0.0  \n",
      "3                         0.0                0.0  \n",
      "4                         0.0                0.0  \n",
      "...                       ...                ...  \n",
      "48837                     0.0                1.0  \n",
      "48838                     0.0                0.0  \n",
      "48839                     1.0                0.0  \n",
      "48840                     0.0                0.0  \n",
      "48841                     0.0                1.0  \n",
      "\n",
      "[48842 rows x 6 columns]\n",
      "(48842, 20)\n",
      "       age  workclass  education  educational-num  marital-status  occupation  \\\n",
      "0       25        1.0        1.0                7             1.0         1.0   \n",
      "1       38        1.0        2.0                9             2.0         2.0   \n",
      "2       28        2.0        3.0               12             2.0         3.0   \n",
      "3       44        1.0        4.0               10             2.0         1.0   \n",
      "4       18        3.0        4.0               10             1.0         4.0   \n",
      "...    ...        ...        ...              ...             ...         ...   \n",
      "48837   27        1.0        3.0               12             2.0        10.0   \n",
      "48838   40        1.0        2.0                9             2.0         1.0   \n",
      "48839   58        1.0        2.0                9             3.0         8.0   \n",
      "48840   22        1.0        2.0                9             1.0         8.0   \n",
      "48841   52        7.0        2.0                9             2.0         9.0   \n",
      "\n",
      "      relationship   race  gender  hours-per-week  ...  \\\n",
      "0        Own-child  Black    Male              40  ...   \n",
      "1          Husband  White    Male              50  ...   \n",
      "2          Husband  White    Male              40  ...   \n",
      "3          Husband  Black    Male              40  ...   \n",
      "4        Own-child  White  Female              30  ...   \n",
      "...            ...    ...     ...             ...  ...   \n",
      "48837         Wife  White  Female              38  ...   \n",
      "48838      Husband  White    Male              40  ...   \n",
      "48839    Unmarried  White  Female              40  ...   \n",
      "48840    Own-child  White    Male              20  ...   \n",
      "48841         Wife  White  Female              40  ...   \n",
      "\n",
      "      race_Asian-Pac-Islander  race_Black  race_Other  race_White  \\\n",
      "0                         0.0         1.0         0.0         0.0   \n",
      "1                         0.0         0.0         0.0         1.0   \n",
      "2                         0.0         0.0         0.0         1.0   \n",
      "3                         0.0         1.0         0.0         0.0   \n",
      "4                         0.0         0.0         0.0         1.0   \n",
      "...                       ...         ...         ...         ...   \n",
      "48837                     0.0         0.0         0.0         1.0   \n",
      "48838                     0.0         0.0         0.0         1.0   \n",
      "48839                     0.0         0.0         0.0         1.0   \n",
      "48840                     0.0         0.0         0.0         1.0   \n",
      "48841                     0.0         0.0         0.0         1.0   \n",
      "\n",
      "       relationship_Husband  relationship_Not-in-family  \\\n",
      "0                       0.0                         0.0   \n",
      "1                       1.0                         0.0   \n",
      "2                       1.0                         0.0   \n",
      "3                       1.0                         0.0   \n",
      "4                       0.0                         0.0   \n",
      "...                     ...                         ...   \n",
      "48837                   0.0                         0.0   \n",
      "48838                   1.0                         0.0   \n",
      "48839                   0.0                         0.0   \n",
      "48840                   0.0                         0.0   \n",
      "48841                   0.0                         0.0   \n",
      "\n",
      "       relationship_Other-relative  relationship_Own-child  \\\n",
      "0                              0.0                     1.0   \n",
      "1                              0.0                     0.0   \n",
      "2                              0.0                     0.0   \n",
      "3                              0.0                     0.0   \n",
      "4                              0.0                     1.0   \n",
      "...                            ...                     ...   \n",
      "48837                          0.0                     0.0   \n",
      "48838                          0.0                     0.0   \n",
      "48839                          0.0                     0.0   \n",
      "48840                          0.0                     1.0   \n",
      "48841                          0.0                     0.0   \n",
      "\n",
      "       relationship_Unmarried  relationship_Wife  \n",
      "0                         0.0                0.0  \n",
      "1                         0.0                0.0  \n",
      "2                         0.0                0.0  \n",
      "3                         0.0                0.0  \n",
      "4                         0.0                0.0  \n",
      "...                       ...                ...  \n",
      "48837                     0.0                1.0  \n",
      "48838                     0.0                0.0  \n",
      "48839                     1.0                0.0  \n",
      "48840                     0.0                0.0  \n",
      "48841                     0.0                1.0  \n",
      "\n",
      "[48842 rows x 26 columns]\n"
     ]
    }
   ],
   "source": [
    "enc4 = OneHotEncoder(handle_unknown='ignore')\n",
    "\n",
    "# passing body_style column\n",
    "enc_df2 = pd.DataFrame(enc4.fit_transform(X[['relationship']]).toarray())\n",
    "print(enc_df2.columns)\n",
    "# X=X.join(enc_df)\n",
    "print(X)\n",
    "enc_df2.columns = enc4.get_feature_names_out(['relationship'])\n",
    "print(enc_df2)\n",
    "print(X.shape)\n",
    "X= pd.concat([X, enc_df2], axis=1)\n",
    "print(X)\n",
    "\n",
    "\n",
    "#Drop unecessary columns and hence set the final columns we will use as a list of column names\n",
    "X= X.drop(columns=['relationship','race', 'gender'])\n",
    "FinalCols = X.columns"
   ]
  },
  {
   "cell_type": "markdown",
   "metadata": {},
   "source": [
    "## Feature selection\n",
    "\n",
    "Let us look at all our numeric columns now present in `X`. We can select those as the columns we will use to now do some Feature Selection.  "
   ]
  },
  {
   "cell_type": "code",
   "execution_count": 27,
   "metadata": {},
   "outputs": [
    {
     "name": "stdout",
     "output_type": "stream",
     "text": [
      "Index(['age', 'workclass', 'education', 'educational-num', 'marital-status',\n",
      "       'occupation', 'hours-per-week', 'income', 'native-US', 'GainLoss',\n",
      "       'gender_Female', 'gender_Male', 'race_Amer-Indian-Eskimo',\n",
      "       'race_Asian-Pac-Islander', 'race_Black', 'race_Other', 'race_White',\n",
      "       'relationship_Husband', 'relationship_Not-in-family',\n",
      "       'relationship_Other-relative', 'relationship_Own-child',\n",
      "       'relationship_Unmarried', 'relationship_Wife'],\n",
      "      dtype='object')\n",
      "   age  workclass  education  educational-num  marital-status  occupation  \\\n",
      "0   25        1.0        1.0                7             1.0         1.0   \n",
      "1   38        1.0        2.0                9             2.0         2.0   \n",
      "2   28        2.0        3.0               12             2.0         3.0   \n",
      "3   44        1.0        4.0               10             2.0         1.0   \n",
      "4   18        3.0        4.0               10             1.0         4.0   \n",
      "\n",
      "   hours-per-week income  native-US  GainLoss  ...  race_Asian-Pac-Islander  \\\n",
      "0              40  <=50K        1.0       0.0  ...                      0.0   \n",
      "1              50  <=50K        1.0       0.0  ...                      0.0   \n",
      "2              40   >50K        1.0       0.0  ...                      0.0   \n",
      "3              40   >50K        1.0       1.0  ...                      0.0   \n",
      "4              30  <=50K        1.0       0.0  ...                      0.0   \n",
      "\n",
      "   race_Black  race_Other  race_White  relationship_Husband  \\\n",
      "0         1.0         0.0         0.0                   0.0   \n",
      "1         0.0         0.0         1.0                   1.0   \n",
      "2         0.0         0.0         1.0                   1.0   \n",
      "3         1.0         0.0         0.0                   1.0   \n",
      "4         0.0         0.0         1.0                   0.0   \n",
      "\n",
      "   relationship_Not-in-family  relationship_Other-relative  \\\n",
      "0                         0.0                          0.0   \n",
      "1                         0.0                          0.0   \n",
      "2                         0.0                          0.0   \n",
      "3                         0.0                          0.0   \n",
      "4                         0.0                          0.0   \n",
      "\n",
      "   relationship_Own-child  relationship_Unmarried  relationship_Wife  \n",
      "0                     1.0                     0.0                0.0  \n",
      "1                     0.0                     0.0                0.0  \n",
      "2                     0.0                     0.0                0.0  \n",
      "3                     0.0                     0.0                0.0  \n",
      "4                     1.0                     0.0                0.0  \n",
      "\n",
      "[5 rows x 23 columns]\n"
     ]
    }
   ],
   "source": [
    "\n",
    "print(FinalCols)\n",
    "print(X.head())\n",
    "\n",
    "from sklearn.feature_selection import SelectKBest, f_classif\n",
    "\n",
    "\n"
   ]
  },
  {
   "cell_type": "markdown",
   "metadata": {},
   "source": [
    "Let us now make a new version of 'X', say 'X1', which contains the numeric columns we just selected.  Let us define our new `X1` which will contain all the numeric input features, and `y`, our oputput variable, which is still _income_."
   ]
  },
  {
   "cell_type": "code",
   "execution_count": 31,
   "metadata": {},
   "outputs": [],
   "source": [
    "#Specify the features to consider and the Y values.  \n",
    "feature_cols = FinalCols\n",
    "X1 = X[feature_cols]\n",
    "X1 = X1.drop(columns=['income'])\n",
    "Y=X['income']"
   ]
  },
  {
   "cell_type": "markdown",
   "metadata": {},
   "source": [
    "Now, you can call a feature ranking algorithm to rank all the features on `X1` using the `mutual_info_classif` criterion.  "
   ]
  },
  {
   "cell_type": "code",
   "execution_count": 33,
   "metadata": {},
   "outputs": [
    {
     "name": "stdout",
     "output_type": "stream",
     "text": [
      "                     Feat_names  Mutual_info\n",
      "4                marital-status     0.112302\n",
      "16         relationship_Husband     0.084162\n",
      "5                    occupation     0.068447\n",
      "0                           age     0.066596\n",
      "2                     education     0.065849\n",
      "..                          ...          ...\n",
      "7                     native-US     0.003739\n",
      "18  relationship_Other-relative     0.001171\n",
      "12      race_Asian-Pac-Islander     0.001155\n",
      "11      race_Amer-Indian-Eskimo     0.000729\n",
      "14                   race_Other     0.000150\n",
      "\n",
      "[22 rows x 2 columns]\n"
     ]
    },
    {
     "data": {
      "text/plain": [
       "(48842, 22)"
      ]
     },
     "execution_count": 33,
     "metadata": {},
     "output_type": "execute_result"
    }
   ],
   "source": [
    "from sklearn.feature_selection import SelectKBest\n",
    "from sklearn.feature_selection import mutual_info_classif\n",
    "\n",
    "# Keep all features but rank them by best mutual information score\n",
    "selector = SelectKBest(score_func=mutual_info_classif, k='all')\n",
    "\n",
    "\n",
    "#Fit and apply feature ranking method\n",
    "X_new = selector.fit_transform(X1, Y)\n",
    "\n",
    "#Retrieve the column names for the selected columns\n",
    "names = X1.columns.values[selector.get_support()]\n",
    "#and their scores\n",
    "scores = selector.scores_[selector.get_support()]\n",
    "#pair the values together with the zip function\n",
    "names_scores = list(zip(names, scores))\n",
    "#Store the information in a data frame\n",
    "ns_df = pd.DataFrame(data = names_scores, columns=['Feat_names', 'Mutual_info'])\n",
    "#Sort the dataframe for better visualization\n",
    "ns_df_sorted = ns_df.sort_values(['Mutual_info', 'Feat_names'], ascending = [False, True])\n",
    "print(ns_df_sorted)\n",
    "#Look at shape of new data\n",
    "X_new.shape\n",
    "\n",
    "\n",
    "\n"
   ]
  },
  {
   "cell_type": "markdown",
   "metadata": {},
   "source": [
    "Display the feature names with their score in order of ranking. "
   ]
  },
  {
   "cell_type": "code",
   "execution_count": 41,
   "metadata": {},
   "outputs": [
    {
     "name": "stdout",
     "output_type": "stream",
     "text": [
      "                     Feat_names  Mutual_info\n",
      "4                marital-status     0.112302\n",
      "16         relationship_Husband     0.084162\n",
      "5                    occupation     0.068447\n",
      "0                           age     0.066596\n",
      "2                     education     0.065849\n",
      "3               educational-num     0.064158\n",
      "8                      GainLoss     0.043893\n",
      "6                hours-per-week     0.042914\n",
      "19       relationship_Own-child     0.035910\n",
      "10                  gender_Male     0.028022\n",
      "9                 gender_Female     0.027286\n",
      "17   relationship_Not-in-family     0.021635\n",
      "1                     workclass     0.017414\n",
      "20       relationship_Unmarried     0.015139\n",
      "15                   race_White     0.010130\n",
      "13                   race_Black     0.005782\n",
      "21            relationship_Wife     0.004238\n",
      "7                     native-US     0.003739\n",
      "18  relationship_Other-relative     0.001171\n",
      "12      race_Asian-Pac-Islander     0.001155\n",
      "11      race_Amer-Indian-Eskimo     0.000729\n",
      "14                   race_Other     0.000150\n"
     ]
    }
   ],
   "source": [
    "# The scope of these changes made to\n",
    "# pandas settings are local to with statement.\n",
    "with pd.option_context('display.max_rows', None,\n",
    "                       'display.max_columns', None,\n",
    "                       # 'display.precision', 2,\n",
    "                       ):\n",
    "    print(ns_df_sorted)"
   ]
  },
  {
   "cell_type": "markdown",
   "metadata": {},
   "source": [
    "### Correlation of variables \n",
    "\n",
    "This may have difficulty medium as we have not covered it but it is for you to do some research on how to do new things to the data finding the relevant functions, methods, etc.  \n",
    "\n",
    "Just to finish, you could look also at the correlation between different variables.  Correlation can also sometimes be used to choose different variables (for example eliminating those that are highly correlated).  For this you will can call the correlation function from Pandas  https://pandas.pydata.org/pandas-docs/stable/reference/api/pandas.DataFrame.corr.html"
   ]
  },
  {
   "cell_type": "code",
   "execution_count": null,
   "metadata": {},
   "outputs": [],
   "source": []
  },
  {
   "cell_type": "markdown",
   "metadata": {},
   "source": [
    "Now we can visualise the correlations by using a `heatmap` from seaborn https://seaborn.pydata.org/generated/seaborn.heatmap.html"
   ]
  },
  {
   "cell_type": "code",
   "execution_count": null,
   "metadata": {},
   "outputs": [],
   "source": []
  },
  {
   "cell_type": "markdown",
   "metadata": {},
   "source": [
    "We could also select columns on the basis of the correlation calculations, for example we could select those where the correlation is greater than some threshold value (say 0.7)."
   ]
  },
  {
   "cell_type": "code",
   "execution_count": null,
   "metadata": {},
   "outputs": [],
   "source": []
  },
  {
   "cell_type": "code",
   "execution_count": null,
   "metadata": {},
   "outputs": [],
   "source": []
  },
  {
   "cell_type": "markdown",
   "metadata": {},
   "source": [
    "Before you leave the lab you may spend sometime thinking about how we will put all of what we have learned together.  For example, to now go and analyse the Adult data with different classification algorithms, what steps should you apply to the data and in what order?  Do you look at missing data? outliers? balancing? FC? FS? Sampling?  Which of those do you apply to the data before spliting into train and test set and which to the train set only? "
   ]
  },
  {
   "cell_type": "code",
   "execution_count": null,
   "metadata": {},
   "outputs": [],
   "source": []
  }
 ],
 "metadata": {
  "kernelspec": {
   "display_name": "Python 3 (ipykernel)",
   "language": "python",
   "name": "python3"
  },
  "language_info": {
   "codemirror_mode": {
    "name": "ipython",
    "version": 3
   },
   "file_extension": ".py",
   "mimetype": "text/x-python",
   "name": "python",
   "nbconvert_exporter": "python",
   "pygments_lexer": "ipython3",
   "version": "3.12.1"
  }
 },
 "nbformat": 4,
 "nbformat_minor": 4
}

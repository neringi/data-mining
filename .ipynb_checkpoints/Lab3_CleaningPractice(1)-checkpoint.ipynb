{
 "cells": [
  {
   "cell_type": "markdown",
   "metadata": {},
   "source": [
    "# Lab 2: cleaning operations practice with the Adult dataset\n",
    "In this lab, we will practice what we learned in the clearning operations lab, but now we use a larger dataset, __Adult__, which we already used in the previous lab . We start by loading the data as we have done before, as well as the necessary libraries. We will look at how to generate train/validation/test partitions, as well as how to do some cleaning of outliers on those, or balancing of training sets.  We will also look at how to assess the problem of missing values and how to impute those by a couple of techniques.  \n"
   ]
  },
  {
   "cell_type": "code",
   "execution_count": 45,
   "metadata": {},
   "outputs": [
    {
     "name": "stdout",
     "output_type": "stream",
     "text": [
      "Vis setup Complete\n",
      "Setup complete.\n"
     ]
    }
   ],
   "source": [
    "import pandas as pd\n",
    "import numpy as np\n",
    "pd.set_option('display.max_rows', 10)\n",
    "pd.plotting.register_matplotlib_converters()\n",
    "import matplotlib.pyplot as plt\n",
    "%matplotlib inline\n",
    "import seaborn as sns\n",
    "from sklearn.metrics import mean_absolute_error\n",
    "from sklearn.model_selection import train_test_split\n",
    "from sklearn.tree import DecisionTreeRegressor\n",
    "print(\"Vis setup Complete\")\n",
    "print(\"Setup complete.\")"
   ]
  },
  {
   "cell_type": "markdown",
   "metadata": {},
   "source": [
    "## Loading the data\n",
    "\n",
    "Now we begin by loading the data as we have done before and printing the `.head()` and `.tail()` to inspect the data.  Also produce a `countplot` of the target variable _income_ to observe the distribution of classes. Load the data as the _Adult_data_ data frame.  We will use that through the lab."
   ]
  },
  {
   "cell_type": "code",
   "execution_count": 2,
   "metadata": {},
   "outputs": [
    {
     "name": "stdout",
     "output_type": "stream",
     "text": [
      "   age  workclass  fnlwgt     education  educational-num      marital-status  \\\n",
      "0   25    Private  226802          11th                7       Never-married   \n",
      "1   38    Private   89814       HS-grad                9  Married-civ-spouse   \n",
      "2   28  Local-gov  336951    Assoc-acdm               12  Married-civ-spouse   \n",
      "3   44    Private  160323  Some-college               10  Married-civ-spouse   \n",
      "4   18          ?  103497  Some-college               10       Never-married   \n",
      "\n",
      "          occupation relationship   race  gender  capital-gain  capital-loss  \\\n",
      "0  Machine-op-inspct    Own-child  Black    Male             0             0   \n",
      "1    Farming-fishing      Husband  White    Male             0             0   \n",
      "2    Protective-serv      Husband  White    Male             0             0   \n",
      "3  Machine-op-inspct      Husband  Black    Male          7688             0   \n",
      "4                  ?    Own-child  White  Female             0             0   \n",
      "\n",
      "   hours-per-week native-country income  \n",
      "0              40  United-States  <=50K  \n",
      "1              50  United-States  <=50K  \n",
      "2              40  United-States   >50K  \n",
      "3              40  United-States   >50K  \n",
      "4              30  United-States  <=50K  \n",
      "       age     workclass  fnlwgt   education  educational-num  \\\n",
      "48837   27       Private  257302  Assoc-acdm               12   \n",
      "48838   40       Private  154374     HS-grad                9   \n",
      "48839   58       Private  151910     HS-grad                9   \n",
      "48840   22       Private  201490     HS-grad                9   \n",
      "48841   52  Self-emp-inc  287927     HS-grad                9   \n",
      "\n",
      "           marital-status         occupation relationship   race  gender  \\\n",
      "48837  Married-civ-spouse       Tech-support         Wife  White  Female   \n",
      "48838  Married-civ-spouse  Machine-op-inspct      Husband  White    Male   \n",
      "48839             Widowed       Adm-clerical    Unmarried  White  Female   \n",
      "48840       Never-married       Adm-clerical    Own-child  White    Male   \n",
      "48841  Married-civ-spouse    Exec-managerial         Wife  White  Female   \n",
      "\n",
      "       capital-gain  capital-loss  hours-per-week native-country income  \n",
      "48837             0             0              38  United-States  <=50K  \n",
      "48838             0             0              40  United-States   >50K  \n",
      "48839             0             0              40  United-States  <=50K  \n",
      "48840             0             0              20  United-States  <=50K  \n",
      "48841         15024             0              40  United-States   >50K  \n"
     ]
    },
    {
     "data": {
      "text/plain": [
       "<Axes: xlabel='income', ylabel='count'>"
      ]
     },
     "execution_count": 2,
     "metadata": {},
     "output_type": "execute_result"
    },
    {
     "data": {
      "image/png": "[encoded data removed]",
      "text/plain": [
       "<Figure size 640x480 with 1 Axes>"
      ]
     },
     "metadata": {},
     "output_type": "display_data"
    }
   ],
   "source": [
    "#designate the path where you saved your Adult data\n",
    "Adult_data_path = \"/Users/ringi/Documents/code/data-mining/datasets/adult.csv\"\n",
    "\n",
    "#Load the data using pandas read_csv function. \n",
    "Adult_data = pd.read_csv(Adult_data_path)\n",
    "\n",
    "#Show the first and last few records to check data is loading correctly\n",
    "print(Adult_data.head())\n",
    "print(Adult_data.tail())\n",
    "\n",
    "#Show distribution of the class on whole dataset\n",
    "sns.countplot(x= 'income', data=Adult_data)\n"
   ]
  },
  {
   "cell_type": "markdown",
   "metadata": {},
   "source": [
    "As in the previous lab, we specify the columns which are: \"age\", \"workclass\", \"fnlwgt\", \"education\",  \"educational-num\", \"marital-status\", \"occupation\", \"relationship\", \"race\", \"gender\", \"capital-gain\", \"capital-loss\", \"hours-per-week\", \"native-country\"."
   ]
  },
  {
   "cell_type": "code",
   "execution_count": 3,
   "metadata": {},
   "outputs": [],
   "source": [
    "adult_cols = [\"age\", \"workclass\", \"fnlwgt\", \"education\", \"educational-num\", \"marital-status\", \"occupation\", \"relationship\", \"race\", \"gender\", \"capital-gain\", \"capital-loss\", \"hours-per-week\", \"native-country\"]\n"
   ]
  },
  {
   "cell_type": "markdown",
   "metadata": {},
   "source": [
    "We will also specify two lists,  one which contains the __categorical columns__, and one which contains the __numeric columns__ of interest.   The categorical columns of interest are: \"workclass\", \"education\", \"marital-status\", \"occupation\",\"relationship\", \"race\", \"gender\", \"native-country\".  The numeric columns are: \"age\", \"education-num\", \"capital-gain\", \"capital-loss\", \"hours-per-week\". We will exclude _fnlwgt_ as it is not a particularly useful variable and we will see this soon. "
   ]
  },
  {
   "cell_type": "code",
   "execution_count": 4,
   "metadata": {},
   "outputs": [
    {
     "name": "stdout",
     "output_type": "stream",
     "text": [
      "   workclass     education      marital-status         occupation  \\\n",
      "0    Private          11th       Never-married  Machine-op-inspct   \n",
      "1    Private       HS-grad  Married-civ-spouse    Farming-fishing   \n",
      "2  Local-gov    Assoc-acdm  Married-civ-spouse    Protective-serv   \n",
      "3    Private  Some-college  Married-civ-spouse  Machine-op-inspct   \n",
      "4          ?  Some-college       Never-married                  ?   \n",
      "\n",
      "  relationship   race  gender native-country income  \n",
      "0    Own-child  Black    Male  United-States  <=50K  \n",
      "1      Husband  White    Male  United-States  <=50K  \n",
      "2      Husband  White    Male  United-States   >50K  \n",
      "3      Husband  Black    Male  United-States   >50K  \n",
      "4    Own-child  White  Female  United-States  <=50K  \n",
      "   age  educational-num  capital-gain  capital-loss  hours-per-week\n",
      "0   25                7             0             0              40\n",
      "1   38                9             0             0              50\n",
      "2   28               12             0             0              40\n",
      "3   44               10          7688             0              40\n",
      "4   18               10             0             0              30\n"
     ]
    }
   ],
   "source": [
    "Adult_Categorical = [\"workclass\", \"education\",\"marital-status\",\"occupation\", \"relationship\",\"race\",\"gender\",\"native-country\",\"income\"]\n",
    "\n",
    "Adult_Numeric = [\"age\", \"educational-num\", \"capital-gain\", \"capital-loss\", \"hours-per-week\"]\n",
    "\n",
    "print(Adult_data[Adult_Categorical].head())\n",
    "print(Adult_data[Adult_Numeric].head())"
   ]
  },
  {
   "cell_type": "markdown",
   "metadata": {},
   "source": [
    "We can start by creating a `boxplot` of the `adult_data` (which will include the numeric variables only in it by default. What can we see in it?  Is there any problematic variables? "
   ]
  },
  {
   "cell_type": "code",
   "execution_count": 5,
   "metadata": {},
   "outputs": [
    {
     "data": {
      "image/png": "[encoded data removed]",
      "text/plain": [
       "<Figure size 800x600 with 1 Axes>"
      ]
     },
     "metadata": {},
     "output_type": "display_data"
    }
   ],
   "source": [
    " # sns.boxplot(x=Adult_data[\"gender\"],y=Adult_data[\"age\"],hue=Adult_data[\"income\"]) \n",
    "\n",
    "plt.figure(figsize=(8,6))\n",
    "sns.boxplot(data=Adult_data)\n",
    "plt.show()"
   ]
  },
  {
   "cell_type": "markdown",
   "metadata": {},
   "source": [
    "We can now designate our X or input variables.   Once assigned look at the `.head()` of X. "
   ]
  },
  {
   "cell_type": "code",
   "execution_count": 6,
   "metadata": {},
   "outputs": [
    {
     "data": {
      "text/html": [
       "<div>\n",
       "<style scoped>\n",
       "    .dataframe tbody tr th:only-of-type {\n",
       "        vertical-align: middle;\n",
       "    }\n",
       "\n",
       "    .dataframe tbody tr th {\n",
       "        vertical-align: top;\n",
       "    }\n",
       "\n",
       "    .dataframe thead th {\n",
       "        text-align: right;\n",
       "    }\n",
       "</style>\n",
       "<table border=\"1\" class=\"dataframe\">\n",
       "  <thead>\n",
       "    <tr style=\"text-align: right;\">\n",
       "      <th></th>\n",
       "      <th>age</th>\n",
       "      <th>workclass</th>\n",
       "      <th>fnlwgt</th>\n",
       "      <th>education</th>\n",
       "      <th>educational-num</th>\n",
       "      <th>marital-status</th>\n",
       "      <th>occupation</th>\n",
       "      <th>relationship</th>\n",
       "      <th>race</th>\n",
       "      <th>gender</th>\n",
       "      <th>capital-gain</th>\n",
       "      <th>capital-loss</th>\n",
       "      <th>hours-per-week</th>\n",
       "      <th>native-country</th>\n",
       "    </tr>\n",
       "  </thead>\n",
       "  <tbody>\n",
       "    <tr>\n",
       "      <th>0</th>\n",
       "      <td>25</td>\n",
       "      <td>Private</td>\n",
       "      <td>226802</td>\n",
       "      <td>11th</td>\n",
       "      <td>7</td>\n",
       "      <td>Never-married</td>\n",
       "      <td>Machine-op-inspct</td>\n",
       "      <td>Own-child</td>\n",
       "      <td>Black</td>\n",
       "      <td>Male</td>\n",
       "      <td>0</td>\n",
       "      <td>0</td>\n",
       "      <td>40</td>\n",
       "      <td>United-States</td>\n",
       "    </tr>\n",
       "    <tr>\n",
       "      <th>1</th>\n",
       "      <td>38</td>\n",
       "      <td>Private</td>\n",
       "      <td>89814</td>\n",
       "      <td>HS-grad</td>\n",
       "      <td>9</td>\n",
       "      <td>Married-civ-spouse</td>\n",
       "      <td>Farming-fishing</td>\n",
       "      <td>Husband</td>\n",
       "      <td>White</td>\n",
       "      <td>Male</td>\n",
       "      <td>0</td>\n",
       "      <td>0</td>\n",
       "      <td>50</td>\n",
       "      <td>United-States</td>\n",
       "    </tr>\n",
       "    <tr>\n",
       "      <th>2</th>\n",
       "      <td>28</td>\n",
       "      <td>Local-gov</td>\n",
       "      <td>336951</td>\n",
       "      <td>Assoc-acdm</td>\n",
       "      <td>12</td>\n",
       "      <td>Married-civ-spouse</td>\n",
       "      <td>Protective-serv</td>\n",
       "      <td>Husband</td>\n",
       "      <td>White</td>\n",
       "      <td>Male</td>\n",
       "      <td>0</td>\n",
       "      <td>0</td>\n",
       "      <td>40</td>\n",
       "      <td>United-States</td>\n",
       "    </tr>\n",
       "    <tr>\n",
       "      <th>3</th>\n",
       "      <td>44</td>\n",
       "      <td>Private</td>\n",
       "      <td>160323</td>\n",
       "      <td>Some-college</td>\n",
       "      <td>10</td>\n",
       "      <td>Married-civ-spouse</td>\n",
       "      <td>Machine-op-inspct</td>\n",
       "      <td>Husband</td>\n",
       "      <td>Black</td>\n",
       "      <td>Male</td>\n",
       "      <td>7688</td>\n",
       "      <td>0</td>\n",
       "      <td>40</td>\n",
       "      <td>United-States</td>\n",
       "    </tr>\n",
       "    <tr>\n",
       "      <th>4</th>\n",
       "      <td>18</td>\n",
       "      <td>?</td>\n",
       "      <td>103497</td>\n",
       "      <td>Some-college</td>\n",
       "      <td>10</td>\n",
       "      <td>Never-married</td>\n",
       "      <td>?</td>\n",
       "      <td>Own-child</td>\n",
       "      <td>White</td>\n",
       "      <td>Female</td>\n",
       "      <td>0</td>\n",
       "      <td>0</td>\n",
       "      <td>30</td>\n",
       "      <td>United-States</td>\n",
       "    </tr>\n",
       "  </tbody>\n",
       "</table>\n",
       "</div>"
      ],
      "text/plain": [
       "   age  workclass  fnlwgt     education  educational-num      marital-status  \\\n",
       "0   25    Private  226802          11th                7       Never-married   \n",
       "1   38    Private   89814       HS-grad                9  Married-civ-spouse   \n",
       "2   28  Local-gov  336951    Assoc-acdm               12  Married-civ-spouse   \n",
       "3   44    Private  160323  Some-college               10  Married-civ-spouse   \n",
       "4   18          ?  103497  Some-college               10       Never-married   \n",
       "\n",
       "          occupation relationship   race  gender  capital-gain  capital-loss  \\\n",
       "0  Machine-op-inspct    Own-child  Black    Male             0             0   \n",
       "1    Farming-fishing      Husband  White    Male             0             0   \n",
       "2    Protective-serv      Husband  White    Male             0             0   \n",
       "3  Machine-op-inspct      Husband  Black    Male          7688             0   \n",
       "4                  ?    Own-child  White  Female             0             0   \n",
       "\n",
       "   hours-per-week native-country  \n",
       "0              40  United-States  \n",
       "1              50  United-States  \n",
       "2              40  United-States  \n",
       "3              40  United-States  \n",
       "4              30  United-States  "
      ]
     },
     "execution_count": 6,
     "metadata": {},
     "output_type": "execute_result"
    }
   ],
   "source": [
    "\n",
    "\n",
    "#Designate the input features as X\n",
    "adult_features=[\"age\", \"workclass\", \"fnlwgt\", \"education\", \"educational-num\", \"marital-status\", \"occupation\", \"relationship\", \"race\", \"gender\", \"capital-gain\", \"capital-loss\", \"hours-per-week\", \"native-country\"]\n",
    "\n",
    "X= Adult_data[adult_features]\n",
    "\n",
    "\n",
    "X.head()"
   ]
  },
  {
   "cell_type": "markdown",
   "metadata": {},
   "source": [
    "Now designate the outcome or target variable as _y_ and look at the `.head() to see what we get."
   ]
  },
  {
   "cell_type": "code",
   "execution_count": 7,
   "metadata": {},
   "outputs": [
    {
     "data": {
      "text/plain": [
       "0    <=50K\n",
       "1    <=50K\n",
       "2     >50K\n",
       "3     >50K\n",
       "4    <=50K\n",
       "Name: income, dtype: object"
      ]
     },
     "execution_count": 7,
     "metadata": {},
     "output_type": "execute_result"
    }
   ],
   "source": [
    "#Designate the outcome or target variable as y\n",
    "y = Adult_data.income\n",
    "\n",
    "y.head()"
   ]
  },
  {
   "cell_type": "markdown",
   "metadata": {},
   "source": [
    "## Sampling (train/validation/test)\n",
    "\n",
    "First, let us divide the Adult dataset into train/validation/test partitions.  We first designated 20% for a test partition, call it _test_X_.  The remainder we can call _part1_X_ as a first partition to be later subdivided.  We then subdivide the partition _part1_X_ into train/validate.  For the second partition we will make we also designate 20% as the validation set. We will not use the test set until the final stage of testing the model, but we can use the validation set to test any intermediary decision as we later build models for classification.\n",
    "\n",
    "So we start by sampling and dividing the original X,y into the part1_X/test_X and part1_y/test_y with the `train_test_split` method and looking at each with the `describe()` method."
   ]
  },
  {
   "cell_type": "code",
   "execution_count": 8,
   "metadata": {},
   "outputs": [],
   "source": [
    "from sklearn.model_selection import train_test_split\n",
    "\n",
    "# Without stratification\n",
    "part1_X,test_X, part1_y, test_y= train_test_split (X,y, test_size=0.2,random_state=1)\n",
    "\n",
    "# Without stratification\n",
    "train_X,valid_X, train_y, valid_y= train_test_split (part1_X,part1_y, test_size=0.2,random_state=1)"
   ]
  },
  {
   "cell_type": "markdown",
   "metadata": {},
   "source": [
    "Now we sample by dividing the _part1_X_ partition into a Train/Validation partition and we also inspect it with `.describe()`. We can compare _train_X, val_X and test_X_, the three sets we have obtained."
   ]
  },
  {
   "cell_type": "code",
   "execution_count": 9,
   "metadata": {},
   "outputs": [
    {
     "name": "stdout",
     "output_type": "stream",
     "text": [
      "               age        fnlwgt  educational-num  capital-gain  capital-loss  \\\n",
      "count  9769.000000  9.769000e+03      9769.000000   9769.000000   9769.000000   \n",
      "mean     38.865083  1.880350e+05        10.100215   1126.553178     93.075955   \n",
      "std      13.768823  1.040600e+05         2.573468   7553.521038    417.305353   \n",
      "min      17.000000  1.228500e+04         1.000000      0.000000      0.000000   \n",
      "25%      28.000000  1.175230e+05         9.000000      0.000000      0.000000   \n",
      "50%      37.000000  1.769650e+05        10.000000      0.000000      0.000000   \n",
      "75%      48.000000  2.350950e+05        13.000000      0.000000      0.000000   \n",
      "max      90.000000  1.268339e+06        16.000000  99999.000000   4356.000000   \n",
      "\n",
      "       hours-per-week  \n",
      "count     9769.000000  \n",
      "mean        40.550824  \n",
      "std         12.612755  \n",
      "min          1.000000  \n",
      "25%         40.000000  \n",
      "50%         40.000000  \n",
      "75%         45.000000  \n",
      "max         99.000000  \n",
      "                age        fnlwgt  educational-num  capital-gain  \\\n",
      "count  39073.000000  3.907300e+04     39073.000000  39073.000000   \n",
      "mean      38.588207  1.900714e+05        10.072556   1067.195327   \n",
      "std       13.695509  1.059839e+05         2.570352   7426.475044   \n",
      "min       17.000000  1.349200e+04         1.000000      0.000000   \n",
      "25%       28.000000  1.175560e+05         9.000000      0.000000   \n",
      "50%       37.000000  1.784780e+05        10.000000      0.000000   \n",
      "75%       48.000000  2.383670e+05        12.000000      0.000000   \n",
      "max       90.000000  1.490400e+06        16.000000  99999.000000   \n",
      "\n",
      "       capital-loss  hours-per-week  \n",
      "count  39073.000000    39073.000000  \n",
      "mean      86.108796       40.390269  \n",
      "std      399.342390       12.335446  \n",
      "min        0.000000        1.000000  \n",
      "25%        0.000000       40.000000  \n",
      "50%        0.000000       40.000000  \n",
      "75%        0.000000       45.000000  \n",
      "max     4356.000000       99.000000  \n",
      "Counts:\n",
      "All data: 48842\n",
      "Test data: 9769\n",
      "80%: 39073\n",
      "Train data: 31258\n",
      "Validation data: 7815\n"
     ]
    }
   ],
   "source": [
    "#Let's look into the contents of the training input data.\n",
    "print(test_X.describe())\n",
    "print(part1_X.describe())\n",
    "\n",
    "print(\"Counts:\")\n",
    "print(\"All data:\", Adult_data.shape[0])\n",
    "print(\"Test data:\", test_X.shape[0])\n",
    "print(\"80%:\", part1_X.shape[0] )\n",
    "print(\"Train data:\", train_X.shape[0])\n",
    "print(\"Validation data:\", valid_X.shape[0])\n"
   ]
  },
  {
   "cell_type": "markdown",
   "metadata": {},
   "source": [
    "## Outlier detection\n",
    "\n",
    "We start now looking at outliers. For the purpose of looking at outliers, let us consider the continous columns we have already defined only so X can be equal to the CONTINUOUS_COLUMNS of the data frame. We can create a new train_X wich we can call train_OL_X with the CONTINUOUS_COLUMNS only."
   ]
  },
  {
   "cell_type": "code",
   "execution_count": 10,
   "metadata": {},
   "outputs": [
    {
     "data": {
      "text/html": [
       "<div>\n",
       "<style scoped>\n",
       "    .dataframe tbody tr th:only-of-type {\n",
       "        vertical-align: middle;\n",
       "    }\n",
       "\n",
       "    .dataframe tbody tr th {\n",
       "        vertical-align: top;\n",
       "    }\n",
       "\n",
       "    .dataframe thead th {\n",
       "        text-align: right;\n",
       "    }\n",
       "</style>\n",
       "<table border=\"1\" class=\"dataframe\">\n",
       "  <thead>\n",
       "    <tr style=\"text-align: right;\">\n",
       "      <th></th>\n",
       "      <th>age</th>\n",
       "      <th>educational-num</th>\n",
       "      <th>capital-gain</th>\n",
       "      <th>capital-loss</th>\n",
       "      <th>hours-per-week</th>\n",
       "    </tr>\n",
       "  </thead>\n",
       "  <tbody>\n",
       "    <tr>\n",
       "      <th>count</th>\n",
       "      <td>31258.000000</td>\n",
       "      <td>31258.000000</td>\n",
       "      <td>31258.000000</td>\n",
       "      <td>31258.000000</td>\n",
       "      <td>31258.000000</td>\n",
       "    </tr>\n",
       "    <tr>\n",
       "      <th>mean</th>\n",
       "      <td>38.635261</td>\n",
       "      <td>10.072781</td>\n",
       "      <td>1120.123136</td>\n",
       "      <td>85.197997</td>\n",
       "      <td>40.417013</td>\n",
       "    </tr>\n",
       "    <tr>\n",
       "      <th>std</th>\n",
       "      <td>13.696651</td>\n",
       "      <td>2.564230</td>\n",
       "      <td>7733.523514</td>\n",
       "      <td>397.546360</td>\n",
       "      <td>12.395490</td>\n",
       "    </tr>\n",
       "    <tr>\n",
       "      <th>min</th>\n",
       "      <td>17.000000</td>\n",
       "      <td>1.000000</td>\n",
       "      <td>0.000000</td>\n",
       "      <td>0.000000</td>\n",
       "      <td>1.000000</td>\n",
       "    </tr>\n",
       "    <tr>\n",
       "      <th>25%</th>\n",
       "      <td>28.000000</td>\n",
       "      <td>9.000000</td>\n",
       "      <td>0.000000</td>\n",
       "      <td>0.000000</td>\n",
       "      <td>40.000000</td>\n",
       "    </tr>\n",
       "    <tr>\n",
       "      <th>50%</th>\n",
       "      <td>37.000000</td>\n",
       "      <td>10.000000</td>\n",
       "      <td>0.000000</td>\n",
       "      <td>0.000000</td>\n",
       "      <td>40.000000</td>\n",
       "    </tr>\n",
       "    <tr>\n",
       "      <th>75%</th>\n",
       "      <td>48.000000</td>\n",
       "      <td>12.000000</td>\n",
       "      <td>0.000000</td>\n",
       "      <td>0.000000</td>\n",
       "      <td>45.000000</td>\n",
       "    </tr>\n",
       "    <tr>\n",
       "      <th>max</th>\n",
       "      <td>90.000000</td>\n",
       "      <td>16.000000</td>\n",
       "      <td>99999.000000</td>\n",
       "      <td>4356.000000</td>\n",
       "      <td>99.000000</td>\n",
       "    </tr>\n",
       "  </tbody>\n",
       "</table>\n",
       "</div>"
      ],
      "text/plain": [
       "                age  educational-num  capital-gain  capital-loss  \\\n",
       "count  31258.000000     31258.000000  31258.000000  31258.000000   \n",
       "mean      38.635261        10.072781   1120.123136     85.197997   \n",
       "std       13.696651         2.564230   7733.523514    397.546360   \n",
       "min       17.000000         1.000000      0.000000      0.000000   \n",
       "25%       28.000000         9.000000      0.000000      0.000000   \n",
       "50%       37.000000        10.000000      0.000000      0.000000   \n",
       "75%       48.000000        12.000000      0.000000      0.000000   \n",
       "max       90.000000        16.000000  99999.000000   4356.000000   \n",
       "\n",
       "       hours-per-week  \n",
       "count    31258.000000  \n",
       "mean        40.417013  \n",
       "std         12.395490  \n",
       "min          1.000000  \n",
       "25%         40.000000  \n",
       "50%         40.000000  \n",
       "75%         45.000000  \n",
       "max         99.000000  "
      ]
     },
     "execution_count": 10,
     "metadata": {},
     "output_type": "execute_result"
    }
   ],
   "source": [
    "train_OL_X = train_X[Adult_Numeric]\n",
    "\n",
    "train_OL_X.describe()\n"
   ]
  },
  {
   "cell_type": "markdown",
   "metadata": {},
   "source": [
    "We now try to detect outliers, first with the DBSCAN algorithm.  Since this file is rather large we do not print the objects with their allocation (outliers designated as -1, or not outliers) but we can print the total number of outliers found.  We can also alter the parameters `min_samples` and `eps` to see the effect on the outliers detected. Once you have the code working, experiment with the algorithm parameters to get a not too large number of outliers. We can apply this on the train data only, but to the one with continous columns, i.e. train_OL_X."
   ]
  },
  {
   "cell_type": "code",
   "execution_count": 11,
   "metadata": {},
   "outputs": [
    {
     "name": "stdout",
     "output_type": "stream",
     "text": [
      "[0 0 0 ... 0 0 0]\n",
      "Total number of outliers identified is:  2147\n",
      "Ground truth: \n",
      " [0 0 0 ... 0 0 0]\n"
     ]
    }
   ],
   "source": [
    "#import the implementation of this algorihm from sklearn\n",
    "from sklearn.cluster import DBSCAN\n",
    "\n",
    "#Use the algorithm for outlier detection, the retun in clusters will show the membership of each point\n",
    "#Any point labelled as -1 is an outlier\n",
    "\n",
    "outlier_detection = DBSCAN(min_samples = 4, eps = 4)\n",
    "clusters = outlier_detection.fit_predict(train_OL_X)\n",
    "\n",
    "#Count total number of outliers as count of those labelled as -1\n",
    "TotalOutliers=list(clusters).count(-1)\n",
    "print (clusters)\n",
    "print(\"Total number of outliers identified is: \",TotalOutliers)\n",
    "\n",
    "ground_truth = clusters\n",
    "print (\"Ground truth: \\n\", ground_truth)"
   ]
  },
  {
   "cell_type": "markdown",
   "metadata": {},
   "source": [
    "We can now create a mask or filter to ensure only those rows that are not outliers are retained in a new data frame that we can later use for classification.  Let us create a new output variable _y1_ and input set of variables _X1_ which contain a filtered version of the original data frame. For this, we can create a mask which takes the value of `clusters!= -1`.  This will be a boolean array which we can then use to filter _y_ into a new version _y1_, and similarly _X_ into a new version _X1_.  Check the shape of the new X and y with `.shape` to see the size of each. The amount of rows should be equal to the rows in the original data frame minus the rows that were designated as outliers. Note that we need to filter the data frame that contains all the columns (_train_X, train_y_), and not just the numeric ones, as all columns will be needed for the classification algorithms."
   ]
  },
  {
   "cell_type": "code",
   "execution_count": 12,
   "metadata": {},
   "outputs": [
    {
     "name": "stdout",
     "output_type": "stream",
     "text": [
      "(31258, 14)\n",
      "(31258,)\n",
      "(29111, 14)\n",
      "(29111,)\n"
     ]
    }
   ],
   "source": [
    "print(train_X.shape)\n",
    "print(train_y.shape)\n",
    "\n",
    "mask = clusters!= -1\n",
    "\n",
    "X1 = train_X[mask]\n",
    "y1 = train_y[mask]\n",
    "\n",
    "print(X1.shape)\n",
    "print(y1.shape)"
   ]
  },
  {
   "cell_type": "markdown",
   "metadata": {},
   "source": [
    "Let us now do similarly but using the `IsolationForest` algorithm.  Again, investigate the parameters to understand how many outliers are found as we change those paramaters."
   ]
  },
  {
   "cell_type": "code",
   "execution_count": 14,
   "metadata": {},
   "outputs": [
    {
     "name": "stdout",
     "output_type": "stream",
     "text": [
      "[1 1 1 ... 1 1 1]\n",
      "Total number of outliers identified is:  4836\n",
      "Number of incorrectly identified outliers:  1848\n"
     ]
    }
   ],
   "source": [
    "#import the implementation of this algorihm from sklearn\n",
    "from sklearn.ensemble import IsolationForest\n",
    "\n",
    "#Use the algorithm for outlier detection, then use it to predict each point\n",
    "#Any point labelled as -1 is an outlier\n",
    "clf = IsolationForest(max_samples=150, random_state = 1, contamination= 'auto')\n",
    "preds = clf.fit_predict(train_OL_X)\n",
    "print(preds)\n",
    "totalOutliers=0\n",
    "for pred in preds:\n",
    "    if pred == -1:\n",
    "        totalOutliers=totalOutliers+1\n",
    "print(\"Total number of outliers identified is: \",totalOutliers)\n",
    "\n",
    "#Calculate number of erroneos predictions where outlier predicction does not coindice with groundtruth\n",
    "newarray= ((preds == -1) & (ground_truth==0))\n",
    "\n",
    "n_errors= len([i for i in newarray if i==True])\n",
    "print(\"Number of incorrectly identified outliers: \",n_errors)"
   ]
  },
  {
   "cell_type": "markdown",
   "metadata": {},
   "source": [
    "Again, we can create a mask or filter to ensure only those rows that are not outliers are retained in a new data frame that we can later use for classification.  Let us create a new output variable _y2_ and input set of variables _X2_ which contain a filtered version of the original data frame, this time with the isolation algorithm filter. For this, we can create a mask which takes the value of `preds!= -1`.  This will be a boolean array which we can then use to filter _train_y_ into a new version _y2_, and similarly _Train_X_ into a new version _X2_.  Again check the shape of the new X and y with `.shape` to see the size of each. "
   ]
  },
  {
   "cell_type": "code",
   "execution_count": 15,
   "metadata": {},
   "outputs": [
    {
     "name": "stdout",
     "output_type": "stream",
     "text": [
      "(31258, 14)\n",
      "(31258,)\n",
      "(26422, 14)\n",
      "(26422,)\n"
     ]
    }
   ],
   "source": [
    "print(train_X.shape)\n",
    "print(train_y.shape)\n",
    "\n",
    "mask2 = preds!= -1\n",
    "\n",
    "X2 = train_X[mask2]\n",
    "y2 = train_y[mask2]\n",
    "\n",
    "print(X2.shape)\n",
    "print(y2.shape)"
   ]
  },
  {
   "cell_type": "markdown",
   "metadata": {},
   "source": [
    "Finally, we can try to run the `LocalOutlierFactor` algorithm on the Adult data.  Once this is done, if you wish to visualise the outliers, you could produce a graph similar to the one produced in the _CleaningExamples_ lab, but this time plot for example _age_ versus _educational_num_ (columns 0 and 1). You may not need to use limits on the x and y axis for this plot, or you will need to adapt them to the right values. "
   ]
  },
  {
   "cell_type": "code",
   "execution_count": 61,
   "metadata": {},
   "outputs": [
    {
     "name": "stdout",
     "output_type": "stream",
     "text": [
      "Predicted outliers: \n",
      " [1 1 1 ... 1 1 1]\n",
      "Number of predicted outliers: 3125\n",
      "Number of incorrectly identified outliers:  2815\n"
     ]
    },
    {
     "name": "stderr",
     "output_type": "stream",
     "text": [
      "/var/folders/_4/f804blyd7p32_4z_qf8cbg140000gq/T/ipykernel_83020/972048437.py:53: MatplotlibDeprecationWarning: The legendHandles attribute was deprecated in Matplotlib 3.7 and will be removed two minor releases later. Use legend_handles instead.\n",
      "  legend.legendHandles[0]._sizes = [12]\n",
      "/var/folders/_4/f804blyd7p32_4z_qf8cbg140000gq/T/ipykernel_83020/972048437.py:54: MatplotlibDeprecationWarning: The legendHandles attribute was deprecated in Matplotlib 3.7 and will be removed two minor releases later. Use legend_handles instead.\n",
      "  legend.legendHandles[1]._sizes = [20]\n"
     ]
    },
    {
     "data": {
      "image/png": "[encoded data removed]",
      "text/plain": [
       "<Figure size 1200x800 with 1 Axes>"
      ]
     },
     "metadata": {},
     "output_type": "display_data"
    }
   ],
   "source": [
    "from sklearn.neighbors import LocalOutlierFactor\n",
    "np.random.seed(42)\n",
    "\n",
    "# fit the model for outlier detection (default)\n",
    "clf = LocalOutlierFactor(n_neighbors=20, contamination=0.1)\n",
    "\n",
    "# use fit_predict to compute the predicted labels of the training samples\n",
    "# (when LOF is used for outlier detection, the estimator has no predict,\n",
    "# decision_function and score_samples methods).\n",
    "y_pred = clf.fit_predict(train_OL_X)\n",
    "\n",
    "print (\"Predicted outliers: \\n\",y_pred)\n",
    "\n",
    "#Calculate number of outliers\n",
    "outlierN = len([i for i in y_pred if i == -1])\n",
    "\n",
    "print (\"Number of predicted outliers:\",outlierN)\n",
    "\n",
    "#Calculate number of erroneos predictions\n",
    "newarray= ((y_pred == -1) & (ground_truth==0))\n",
    "#print(newarray)\n",
    "n_errors= len([i for i in newarray if i==True])\n",
    "print(\"Number of incorrectly identified outliers: \",n_errors)\n",
    "\n",
    "#Let us see graphically how the outliers are identified\n",
    "#Use outlier scores calculated by the algorithm to plot a circle around the outlier proportional to score.\n",
    "\n",
    "X_scores = clf.negative_outlier_factor_\n",
    "\n",
    "plt.figure(figsize=(12,8))\n",
    "plt.title(\"Local Outlier Factor (LOF)\")\n",
    "\n",
    "#Convert the df to an array for the purpose of the scatterplot\n",
    "Xol = train_X[Adult_Numeric].to_numpy()\n",
    "\n",
    "#Use scatter \n",
    "plt.scatter(Xol[:, 0], Xol[:, 1], color='k', s=3, label='Data points')\n",
    "\n",
    "# plot circles with radius proportional to the outlier scores\n",
    "radius = ((X_scores.max() - X_scores) / (X_scores.max() - X_scores.min()))\n",
    "\n",
    "\n",
    "# radius1 = int(radius)\n",
    "# print(radius1)\n",
    "\n",
    "plt.scatter(Xol[:, 0], Xol[:, 1], s=200 * radius , edgecolors='r',\n",
    "            facecolors='none', label='Outlier scores')\n",
    "plt.axis('tight')\n",
    "# plt.xlim((0, 14))\n",
    "# plt.ylim((0, 6))\n",
    "plt.xlabel(\"prediction errors: %d\" % (n_errors))\n",
    "legend = plt.legend(loc='upper left')\n",
    "legend.legendHandles[0]._sizes = [12]\n",
    "legend.legendHandles[1]._sizes = [20]\n",
    "plt.show()"
   ]
  },
  {
   "cell_type": "markdown",
   "metadata": {},
   "source": [
    "Again, we filter to ensure only those rows that are not outliers are retained in a new data frame that we can later use for classification.  Let us create a new output variable _y3_ and input set of variables _X3_ which contain a filtered version of the original data frame, this time with the LOF algorithm filter, similar to the previous to cells. "
   ]
  },
  {
   "cell_type": "code",
   "execution_count": 62,
   "metadata": {},
   "outputs": [
    {
     "name": "stdout",
     "output_type": "stream",
     "text": [
      "(31258, 14)\n",
      "(31258,)\n",
      "(3125, 14)\n",
      "(3125,)\n"
     ]
    }
   ],
   "source": [
    "\n",
    "print(train_X.shape)\n",
    "print(train_y.shape)\n",
    "\n",
    "mask3 = y_pred == -1\n",
    "\n",
    "\n",
    "X3 = train_X[mask3]\n",
    "y3 = train_y[mask3]\n",
    "\n",
    "print(X3.shape)\n",
    "print(y3.shape)"
   ]
  },
  {
   "cell_type": "markdown",
   "metadata": {},
   "source": [
    "If you wish to save any of the dataframes you have created to load them elsewhere you can do that with the `.to_csv()` method.  You can pass inside as parameters the path and file name and `index = False` if you don't wish to save the index.  Alternatively, you can repeat the code above to get the data frame in a later lab."
   ]
  },
  {
   "cell_type": "code",
   "execution_count": null,
   "metadata": {},
   "outputs": [],
   "source": []
  },
  {
   "cell_type": "markdown",
   "metadata": {},
   "source": [
    "## Balancing of the data\n",
    "\n",
    "Now we will practice balancing the data.  We can apply balancing operations to the original training data, or we could apply it to any of the versions with outliers removed if we later decided that removing the outliers may be beneficial.  Let us use the original training data ignoring outlier removal for the time being. We can start by producing a count of how many rows are there for each label using the `value_counts()` method on the _train_y_ series."
   ]
  },
  {
   "cell_type": "code",
   "execution_count": 64,
   "metadata": {},
   "outputs": [
    {
     "name": "stdout",
     "output_type": "stream",
     "text": [
      "income\n",
      "<=50K    23805\n",
      ">50K      7453\n",
      "Name: count, dtype: int64\n"
     ]
    }
   ],
   "source": [
    "print(train_y.value_counts())"
   ]
  },
  {
   "cell_type": "markdown",
   "metadata": {},
   "source": [
    "Now we will try to produce a balanced sample but instead of doing it from the whole file, as we do not want to balance the test data, we wil do it from the training data only, the _train_X_ data frame. First we need to concatanate the X and y part of the training data to apply balancing.  We can separate again later.   We can start by trying to upsample the minority class so they both have an equal number of samples.  We can look at the statistics of the upsampled data, together with the new value counts."
   ]
  },
  {
   "cell_type": "code",
   "execution_count": 84,
   "metadata": {},
   "outputs": [
    {
     "name": "stdout",
     "output_type": "stream",
     "text": [
      "(31258,)\n",
      "(23805,)\n",
      "                age        fnlwgt  educational-num  capital-gain  \\\n",
      "count  47610.000000  4.761000e+04     47610.000000  47610.000000   \n",
      "mean      40.557446  1.892139e+05        10.581601   2173.527893   \n",
      "std       12.986638  1.058789e+05         2.612961  11006.047986   \n",
      "min       17.000000  1.349200e+04         1.000000      0.000000   \n",
      "25%       31.000000  1.175830e+05         9.000000      0.000000   \n",
      "50%       40.000000  1.769980e+05        10.000000      0.000000   \n",
      "75%       49.000000  2.364248e+05        13.000000      0.000000   \n",
      "max       90.000000  1.490400e+06        16.000000  99999.000000   \n",
      "\n",
      "       capital-loss  hours-per-week  \n",
      "count  47610.000000    47610.000000  \n",
      "mean     119.122096       42.214556  \n",
      "std      470.885744       12.217361  \n",
      "min        0.000000        1.000000  \n",
      "25%        0.000000       40.000000  \n",
      "50%        0.000000       40.000000  \n",
      "75%        0.000000       50.000000  \n",
      "max     4356.000000       99.000000  \n",
      "(47610, 14)\n"
     ]
    },
    {
     "data": {
      "text/plain": [
       "age  workclass         fnlwgt  education     educational-num  marital-status      occupation         relationship   race   gender  capital-gain  capital-loss  hours-per-week  native-country\n",
       "46   Local-gov         165484  Assoc-acdm    12               Married-civ-spouse  Exec-managerial    Husband        White  Male    0             0             44              United-States     13\n",
       "37   Private           105803  HS-grad       9                Married-civ-spouse  Craft-repair       Husband        White  Male    3103          0             45              United-States     12\n",
       "38   Private           207202  HS-grad       9                Married-civ-spouse  Machine-op-inspct  Husband        White  Male    0             0             48              United-States     11\n",
       "39   Private           746786  Bachelors     13               Married-civ-spouse  Prof-specialty     Husband        White  Male    0             0             55              United-States     11\n",
       "27   Private           228472  Bachelors     13               Married-civ-spouse  Craft-repair       Husband        White  Male    0             0             45              United-States     10\n",
       "                                                                                                                                                                                                 ..\n",
       "31   Private           48588   Some-college  10               Married-civ-spouse  Craft-repair       Husband        White  Male    0             0             40              United-States      1\n",
       "                       48456   Some-college  10               Never-married       Sales              Not-in-family  White  Female  0             0             40              United-States      1\n",
       "                       48189   HS-grad       9                Married-civ-spouse  Transport-moving   Husband        White  Male    0             0             45              United-States      1\n",
       "                               9th           5                Married-civ-spouse  Farming-fishing    Husband        White  Male    0             0             65              United-States      1\n",
       "90   Self-emp-not-inc  155981  Bachelors     13               Married-civ-spouse  Prof-specialty     Husband        White  Male    10566         0             50              United-States      1\n",
       "Name: count, Length: 30939, dtype: int64"
      ]
     },
     "execution_count": 84,
     "metadata": {},
     "output_type": "execute_result"
    }
   ],
   "source": [
    "from sklearn.utils import resample\n",
    "\n",
    "df_majority = train_X[train_y==\"<=50K\"]\n",
    "df_minority = train_X[train_y==\">50K\"]\n",
    "\n",
    "print(train_y.shape)\n",
    "print(train_y[train_y==\"<=50K\"].shape)\n",
    "\n",
    "# Upsample minority class\n",
    "df_minority_upsampled = resample(df_minority, \n",
    "                                 replace=True,     # sample with replacement\n",
    "                                 n_samples=23805,     # to match majority class\n",
    "                                 random_state=123) # reproducible results\n",
    "\n",
    "# Combine majority class with upsampled minority class\n",
    "df_upsampled = pd.concat([df_majority, df_minority_upsampled])\n",
    "\n",
    "# Show dataset statistics\n",
    "print(df_upsampled.describe())\n",
    "print(df_upsampled.shape)\n",
    " \n",
    "# Display new class counts\n",
    "df_upsampled.value_counts()\n",
    "\n",
    "# df_upsampled.shape()\n"
   ]
  },
  {
   "cell_type": "markdown",
   "metadata": {},
   "source": [
    "We may now want to produce another `countplot` to compare the class imbalance."
   ]
  },
  {
   "cell_type": "code",
   "execution_count": null,
   "metadata": {},
   "outputs": [],
   "source": []
  },
  {
   "cell_type": "markdown",
   "metadata": {},
   "source": [
    "Additionally, we may produce a `stripplot` to understand how the data was distributed for the two classes in the original data frame, _Adult_data_ and then another one for how it is distributed in the new upsampled data for comparison. "
   ]
  },
  {
   "cell_type": "code",
   "execution_count": null,
   "metadata": {},
   "outputs": [],
   "source": []
  },
  {
   "cell_type": "code",
   "execution_count": null,
   "metadata": {
    "scrolled": true
   },
   "outputs": [],
   "source": []
  },
  {
   "cell_type": "markdown",
   "metadata": {},
   "source": [
    "Now, we do similarly, but this time we downsample the majority class to produce a reduced balanced dataset.  We look at value counts and after we can produce a `countplot` to look at the distribution of values in the classes."
   ]
  },
  {
   "cell_type": "code",
   "execution_count": null,
   "metadata": {},
   "outputs": [],
   "source": []
  },
  {
   "cell_type": "code",
   "execution_count": null,
   "metadata": {},
   "outputs": [],
   "source": []
  },
  {
   "cell_type": "markdown",
   "metadata": {},
   "source": [
    "Again a `stripplot` can show the distribution of points within the classes in the downsampled data frame."
   ]
  },
  {
   "cell_type": "code",
   "execution_count": null,
   "metadata": {},
   "outputs": [],
   "source": []
  },
  {
   "cell_type": "markdown",
   "metadata": {},
   "source": [
    "Now you could chose to use either your dowsampled or upsampled training data as the data to classify.  For this you will need to divide the _X_ part (decision variables) from the _y_ part (target variable), before feeding to any classification algorithms. Attempt that for the upsampled data. "
   ]
  },
  {
   "cell_type": "code",
   "execution_count": null,
   "metadata": {},
   "outputs": [],
   "source": []
  },
  {
   "cell_type": "markdown",
   "metadata": {},
   "source": [
    "## Missing data\n",
    "\n",
    "Now we will get to deal with missing data. First thing is to understand how missing data, if there is any, is represented in the dataset we are looking at. The distribution graphs we did in the previous lab for the Adult data frame showed that _occupation_, _workclass_ and _native_country_ appeared to have missing values represented as '?'.  We can start by replacing all values of _'?'_ in the data frame with _nan_, the representation of missing data in _numpy_. For this  the `.replace()` method can be used with the first parameter being what we want to replace, i.e. '?' and the second being what we want to replace it with, i.e. _nan_.  We need to make missing data consistently represented in the whole dataset so we apply this to the _Adult_data_ data frame."
   ]
  },
  {
   "cell_type": "code",
   "execution_count": null,
   "metadata": {},
   "outputs": [],
   "source": []
  },
  {
   "cell_type": "markdown",
   "metadata": {},
   "source": [
    "Now, we can count how many missing (i.e. nan) numbers there are in the data frame as a whole. Then how many there are in each column or variable."
   ]
  },
  {
   "cell_type": "code",
   "execution_count": null,
   "metadata": {},
   "outputs": [],
   "source": []
  },
  {
   "cell_type": "markdown",
   "metadata": {},
   "source": [
    "We now start by removing all rows that contain a missing value.  How many rows are left?"
   ]
  },
  {
   "cell_type": "code",
   "execution_count": null,
   "metadata": {},
   "outputs": [],
   "source": []
  },
  {
   "cell_type": "markdown",
   "metadata": {},
   "source": [
    "Difficulty (High): Finally, we look at how to impute the data. However, we may need to use different methods for categorical and numeric data. Let us create a class DataFrameIputer which takes the 'TransformerMixin' class from scikit-learn https://scikit-learn.org/stable/modules/generated/sklearn.base.TransformerMixin.html and uses the mean values for numeric columns and the most frequent value for non-numeric columns. After that, we can use the new class to transform our data and input the missing values in the process."
   ]
  },
  {
   "cell_type": "code",
   "execution_count": null,
   "metadata": {},
   "outputs": [],
   "source": []
  },
  {
   "cell_type": "markdown",
   "metadata": {},
   "source": [
    "Note that we could have used imputation only on the training part of the data frame, although if the classification algorithm we are going to use does not accept missing data, then we may need to apply the imputation on the whole dataset as we just did.  \n",
    "\n",
    "Now that is all for this lab!!! We have created a number of data frames we may use in later labs for classification so make sure you save your work ready for re-use later. "
   ]
  },
  {
   "cell_type": "code",
   "execution_count": null,
   "metadata": {},
   "outputs": [],
   "source": []
  }
 ],
 "metadata": {
  "kernelspec": {
   "display_name": "Python 3 (ipykernel)",
   "language": "python",
   "name": "python3"
  },
  "language_info": {
   "codemirror_mode": {
    "name": "ipython",
    "version": 3
   },
   "file_extension": ".py",
   "mimetype": "text/x-python",
   "name": "python",
   "nbconvert_exporter": "python",
   "pygments_lexer": "ipython3",
   "version": "3.12.1"
  }
 },
 "nbformat": 4,
 "nbformat_minor": 4
}
